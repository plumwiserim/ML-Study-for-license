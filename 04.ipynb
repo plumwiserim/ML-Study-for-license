{
 "cells": [
  {
   "attachments": {},
   "cell_type": "markdown",
   "metadata": {},
   "source": [
    "## 04. Apply, Map"
   ]
  },
  {
   "cell_type": "code",
   "execution_count": 3,
   "metadata": {},
   "outputs": [
    {
     "data": {
      "text/plain": [
       "(10127, 19)"
      ]
     },
     "execution_count": 3,
     "metadata": {},
     "output_type": "execute_result"
    }
   ],
   "source": [
    "import pandas as pd\n",
    "\n",
    "# Q56. 데이터를 로드하고 데이터 행과 열의 갯수를 출력하라\n",
    "df = pd.read_csv('https://raw.githubusercontent.com/Datamanim/pandas/main/BankChurnersUp.csv')\n",
    "df.shape"
   ]
  },
  {
   "cell_type": "code",
   "execution_count": 4,
   "metadata": {},
   "outputs": [
    {
     "data": {
      "text/plain": [
       "0        c\n",
       "1        a\n",
       "2        d\n",
       "3        a\n",
       "4        c\n",
       "        ..\n",
       "10122    b\n",
       "10123    b\n",
       "10124    a\n",
       "10125    b\n",
       "10126    a\n",
       "Name: newIncome, Length: 10127, dtype: object"
      ]
     },
     "execution_count": 4,
     "metadata": {},
     "output_type": "execute_result"
    }
   ],
   "source": [
    "# Q57. Income_Category 의 카테고리를 map 함수를 이용하여 다음과 같이 변경하여 newIncome 컬럼에 매핑하라 \n",
    "# Unknown : N\n",
    "# Less than $40K : a\n",
    "# $40K - $60K : b\n",
    "# $60K - $80K : c\n",
    "# $80K - $120K : d\n",
    "# $120K +’ : e\n",
    "\n",
    "dic = {\n",
    "    'Unknown' : 'N', \n",
    "    'Less than $40K' : 'a', \n",
    "    '$40K - $60K' : 'b', \n",
    "    '$60K - $80K' : 'c', \n",
    "    '$80K - $120K' : 'd', \n",
    "    '$120K +' : 'e'\n",
    "}\n",
    "\n",
    "df['newIncome'] = df['Income_Category'].map(lambda x: dic[x])\n",
    "df['newIncome']"
   ]
  },
  {
   "cell_type": "code",
   "execution_count": 5,
   "metadata": {},
   "outputs": [
    {
     "data": {
      "text/plain": [
       "0    c\n",
       "1    a\n",
       "2    d\n",
       "3    a\n",
       "4    c\n",
       "Name: newIncome, dtype: object"
      ]
     },
     "execution_count": 5,
     "metadata": {},
     "output_type": "execute_result"
    }
   ],
   "source": [
    "# Q58. Income_Category의 카테고리를 apply 함수를 이용하여 다음과 같이 변경하여 newIncome 컬럼에 매핑하라 \n",
    "# Unknown : N\n",
    "# Less than $40K : a\n",
    "# $40K - $60K : b\n",
    "# $60K - $80K : c\n",
    "# $80K - $120K : d\n",
    "# $120K +’ : e\n",
    "\n",
    "def changeCategory(x):\n",
    "    if x =='Unknown':\n",
    "        return 'N'\n",
    "    elif x =='Less than $40K':\n",
    "        return 'a'\n",
    "    elif x =='$40K - $60K':   \n",
    "        return 'b'\n",
    "    elif x =='$60K - $80K':    \n",
    "        return 'c'\n",
    "    elif x =='$80K - $120K':   \n",
    "        return 'd'\n",
    "    elif x =='$120K +' :     \n",
    "        return 'e'\n",
    "    \n",
    "df['newIncome'] = df['Income_Category'].apply(changeCategory)\n",
    "df['newIncome'].head()"
   ]
  },
  {
   "cell_type": "code",
   "execution_count": 7,
   "metadata": {},
   "outputs": [
    {
     "data": {
      "text/plain": [
       "20     195\n",
       "30    1841\n",
       "40    4561\n",
       "50    2998\n",
       "60     530\n",
       "70       2\n",
       "Name: AgeState, dtype: int64"
      ]
     },
     "execution_count": 7,
     "metadata": {},
     "output_type": "execute_result"
    }
   ],
   "source": [
    "# Q59. Customer_Age 의 값을 이용하여 나이 구간을 AgeState 컬럼으로 정의하라 \n",
    "# (0~9:0, 10~19:10, 20~29:20, ...) 각 구간의 빈도수를 출력하라 \n",
    "df['AgeState'] = df['Customer_Age'].map(lambda x: x//10 * 10)\n",
    "df['AgeState'].value_counts().sort_index()"
   ]
  },
  {
   "cell_type": "code",
   "execution_count": 10,
   "metadata": {},
   "outputs": [
    {
     "data": {
      "text/plain": [
       "0    6483\n",
       "1    3644\n",
       "Name: newEduLevel, dtype: int64"
      ]
     },
     "execution_count": 10,
     "metadata": {},
     "output_type": "execute_result"
    }
   ],
   "source": [
    "# Q60. Education_Level 의 갑 중 Graduate 단어가 포함되는 값은 1, 그렇지 않은 경웅는 0으로 변경하여 \n",
    "# newEduLevel 컬럼을 정의하고 빈도수를 출력하라 \n",
    "df['newEduLevel'] = df['Education_Level'].map(lambda x: 1 if 'Graduate' in x else 0)\n",
    "df['newEduLevel'].value_counts()"
   ]
  },
  {
   "cell_type": "code",
   "execution_count": 11,
   "metadata": {},
   "outputs": [
    {
     "data": {
      "text/plain": [
       "1    5096\n",
       "0    5031\n",
       "Name: newLimit, dtype: int64"
      ]
     },
     "execution_count": 11,
     "metadata": {},
     "output_type": "execute_result"
    }
   ],
   "source": [
    "# Q61. Credit_Limit 컬럼값이 4500 이상인 경우 1 그 외의 경우에는 모두 0으로 하는 newLimit 정의하라\n",
    "# newLimit 각 값들의 빈도수를 출력하라\n",
    "df['newLimit'] = df['Credit_Limit'].map(lambda x: 1 if x >= 4500 else 0)\n",
    "df['newLimit'].value_counts()"
   ]
  },
  {
   "cell_type": "code",
   "execution_count": 12,
   "metadata": {},
   "outputs": [
    {
     "data": {
      "text/plain": [
       "0    10120\n",
       "1        7\n",
       "Name: newState, dtype: int64"
      ]
     },
     "execution_count": 12,
     "metadata": {},
     "output_type": "execute_result"
    }
   ],
   "source": [
    "# Q62. Martial_Status 컬럼값이 Married 이고 Card_Category 컬럼값이 Platinum 인 경우 1\n",
    "# 그 외의 경우 모두 0으로 하는 newSate 컬럼을 정의하라. \n",
    "# newState 의 각 값들의 빈도수를 출력하라 \n",
    "def check(x): \n",
    "    if x.Marital_Status == 'Married' and x.Card_Category == 'Platinum': \n",
    "        return 1\n",
    "    else: \n",
    "        return 0 \n",
    "\n",
    "df['newState'] = df.apply(check, axis=1)\n",
    "df['newState'].value_counts()"
   ]
  },
  {
   "cell_type": "code",
   "execution_count": 13,
   "metadata": {},
   "outputs": [
    {
     "data": {
      "text/plain": [
       "female    5358\n",
       "male      4769\n",
       "Name: Gender, dtype: int64"
      ]
     },
     "execution_count": 13,
     "metadata": {},
     "output_type": "execute_result"
    }
   ],
   "source": [
    "# Q63. Gender 컬럼값이 M인 경우 male, F인 경우 female로 값을 변경하여 Gender 컬럼에 새롭게 정의하라. \n",
    "# 각 value의 빈도를 출력하라 \n",
    "df['Gender'] = df['Gender'].map(lambda x: 'male' if x == 'M' else 'female')\n",
    "df['Gender'].value_counts()"
   ]
  },
  {
   "cell_type": "code",
   "execution_count": null,
   "metadata": {},
   "outputs": [],
   "source": []
  }
 ],
 "metadata": {
  "kernelspec": {
   "display_name": "Python 3",
   "language": "python",
   "name": "python3"
  },
  "language_info": {
   "codemirror_mode": {
    "name": "ipython",
    "version": 3
   },
   "file_extension": ".py",
   "mimetype": "text/x-python",
   "name": "python",
   "nbconvert_exporter": "python",
   "pygments_lexer": "ipython3",
   "version": "3.8.10"
  },
  "orig_nbformat": 4
 },
 "nbformat": 4,
 "nbformat_minor": 2
}
