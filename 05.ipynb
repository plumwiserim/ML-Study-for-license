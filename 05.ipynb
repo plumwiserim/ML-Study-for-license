{
 "cells": [
  {
   "attachments": {},
   "cell_type": "markdown",
   "metadata": {},
   "source": [
    "## 05. Time Series"
   ]
  },
  {
   "cell_type": "code",
   "execution_count": 1,
   "metadata": {},
   "outputs": [
    {
     "name": "stdout",
     "output_type": "stream",
     "text": [
      "<class 'pandas.core.frame.DataFrame'>\n",
      "RangeIndex: 6574 entries, 0 to 6573\n",
      "Data columns (total 13 columns):\n",
      " #   Column    Non-Null Count  Dtype  \n",
      "---  ------    --------------  -----  \n",
      " 0   Yr_Mo_Dy  6574 non-null   object \n",
      " 1   RPT       6568 non-null   float64\n",
      " 2   VAL       6571 non-null   float64\n",
      " 3   ROS       6572 non-null   float64\n",
      " 4   KIL       6569 non-null   float64\n",
      " 5   SHA       6572 non-null   float64\n",
      " 6   BIR       6574 non-null   float64\n",
      " 7   DUB       6571 non-null   float64\n",
      " 8   CLA       6572 non-null   float64\n",
      " 9   MUL       6571 non-null   float64\n",
      " 10  CLO       6573 non-null   float64\n",
      " 11  BEL       6574 non-null   float64\n",
      " 12  MAL       6570 non-null   float64\n",
      "dtypes: float64(12), object(1)\n",
      "memory usage: 667.8+ KB\n"
     ]
    }
   ],
   "source": [
    "import pandas as pd\n",
    "\n",
    "# Q64. 데이터를 로드하고 각 열의 데이터 타입을 파악하라 \n",
    "df = pd.read_csv('https://raw.githubusercontent.com/Datamanim/pandas/main/timeTest.csv')\n",
    "df.info()"
   ]
  },
  {
   "cell_type": "code",
   "execution_count": 4,
   "metadata": {},
   "outputs": [
    {
     "data": {
      "text/plain": [
       "0      2061-01-01\n",
       "1      2061-01-02\n",
       "2      2061-01-03\n",
       "3      2061-01-04\n",
       "4      2061-01-05\n",
       "          ...    \n",
       "6569   1978-12-27\n",
       "6570   1978-12-28\n",
       "6571   1978-12-29\n",
       "6572   1978-12-30\n",
       "6573   1978-12-31\n",
       "Name: Yr_Mo_Dy, Length: 6574, dtype: datetime64[ns]"
      ]
     },
     "execution_count": 4,
     "metadata": {},
     "output_type": "execute_result"
    }
   ],
   "source": [
    "# Q65. Yr_Mo_Dy 을 판다스에서 인식할 수 있는 datetime64 타입으로 변경하라 \n",
    "df['Yr_Mo_Dy'] = pd.to_datetime(df['Yr_Mo_Dy'])\n",
    "df['Yr_Mo_Dy']"
   ]
  },
  {
   "cell_type": "code",
   "execution_count": 8,
   "metadata": {},
   "outputs": [
    {
     "data": {
      "text/plain": [
       "array([2061, 2062, 2063, 2064, 2065, 2066, 2067, 2068, 2069, 2070, 1971,\n",
       "       1972, 1973, 1974, 1975, 1976, 1977, 1978], dtype=int64)"
      ]
     },
     "execution_count": 8,
     "metadata": {},
     "output_type": "execute_result"
    }
   ],
   "source": [
    "# Q66. Yr_Mo_Dy에 존재하는 년도의 유일값을 모두 출력하라 \n",
    "# df['Yr_Mo_Dy'].dt.year.unique 와의 차이점 ? .. \n",
    "df['Yr_Mo_Dy'].dt.year.unique()"
   ]
  },
  {
   "cell_type": "code",
   "execution_count": null,
   "metadata": {},
   "outputs": [],
   "source": [
    "# Q67. Yr_Mo_Dy에 년도가 2061년 이상의 경우에는 모두 잘못된 데이터다. \n",
    "# 해당 경우의 값은 100을 빼서 새롭게 날짜를 Yr_Mo_Dy 컬럼에 정의하라 \n"
   ]
  }
 ],
 "metadata": {
  "kernelspec": {
   "display_name": "Python 3",
   "language": "python",
   "name": "python3"
  },
  "language_info": {
   "codemirror_mode": {
    "name": "ipython",
    "version": 3
   },
   "file_extension": ".py",
   "mimetype": "text/x-python",
   "name": "python",
   "nbconvert_exporter": "python",
   "pygments_lexer": "ipython3",
   "version": "3.8.10"
  },
  "orig_nbformat": 4
 },
 "nbformat": 4,
 "nbformat_minor": 2
}
