{
 "cells": [
  {
   "attachments": {},
   "cell_type": "markdown",
   "metadata": {},
   "source": [
    "### 가설검정\n",
    "1. 가설 검정의 절차, 가설의 종류 \n",
    "2. 가설검정의 종류 \n",
    "3. 귀무가설, 대립가설 \n",
    "4. 제 1종, 2종 오류 \n",
    "5. 신뢰수준, 기각역, 유의수준 \n",
    "\n",
    "출처: https://www.youtube.com/watch?v=jcQ6WVfyNpk"
   ]
  },
  {
   "cell_type": "code",
   "execution_count": null,
   "metadata": {},
   "outputs": [],
   "source": [
    "# 종이가 제공되기 때문에 필기구를 지참해서 기록해도 된다 \n",
    "\n",
    "# 문제. 주어진 데이터(data/blood_pressure.csv)에는 고혈압 환자 120명의 치료 전후의 혈압이 저장되어 있다. \n",
    "# 해당 치료가 효과가 있는지 (즉, 치료 후의 혈압이 감소했는지) 쌍체표본 t-검정(paired t-test)를 통해 답하고자 한다. \n",
    "# 가설은 아래와 같다. \n",
    "# 귀무가설: 표본(치료 후 혈압 - 치료 전 혈압)의 평균 >= 0\n",
    "# 대립가설: 표본(치료 후 혈압 - 치료 전 혈압)의 평균 < 0\n",
    "# - bp_before: 치료 전 혈압\n",
    "# - bp_after: 치료 후 혈압 \n",
    "# 답1. 표본평균을 입력하시오. (반올림하여 소수 둘째자리까지 계산)\n",
    "# 답2. 위의 가설을 검정하기 위한 검정통계량을 입력하시오. (반올림하여 소수 넷째자리까지 계산)\n",
    "# 답3. 위의 통계량에 대한 p-값을 구하여 입력하시오. (반올림하여 소수 넷째자리까지 계산)\n",
    "# 답4. 유의수준 0.05 하에서 가설검정의 결과를 (채택/기각) 중 하나를 선택하여 입력하시오. "
   ]
  },
  {
   "cell_type": "code",
   "execution_count": null,
   "metadata": {},
   "outputs": [],
   "source": [
    "import pandas as pd \n",
    "from scipy.stats import ttest_rel \n",
    "\n",
    "df = pd.read_csv('data/blood_pressure.csv', index_col=0)\n",
    "df.info()\n",
    "df.head()\n",
    "\n",
    "# 답1. \n",
    "answer1 = (df['bp_after'] - df['bp_before']).mean()\n",
    "answer1 = round(answer1, 2)\n",
    "\n",
    "# 답2~3. \n",
    "s, p = ttest_rel(df['bp_after'] - df['bp_before'], alternative='less') # alternative: 대립가설 \n",
    "answer2 = round(s, 4)\n",
    "answer3 = round(p, 4)\n",
    "\n",
    "# 답4. \n",
    "'기각' if p < 0.05 else '채택'\n",
    "\n",
    "# 만약 ADP 실기 시험이라면 가설 설정, 정규성, 등분산성, 어떤 검정방법을 사용해야할 지 다 해봐야하지만 \n",
    "# 빅분기 실기 시험 에제에서는 이미 쌍체표본 t-검정을 사용하라고 기재되어있으므로 사용법만 익히면 된다. \n",
    "\n",
    "# 모수: t-test\n",
    "# 비모수: chi2\n",
    "# ANOVA 1-way, 2-way 등 종류가 많은데 \n",
    "# scipy.stats 에는 1-way만 있다. "
   ]
  },
  {
   "cell_type": "code",
   "execution_count": null,
   "metadata": {},
   "outputs": [],
   "source": [
    "# 가설검정의 종류 \n",
    "# 양측검정: 귀무가설을 기각하는 영역이 양쪽에 있는 검정\n",
    "# alternative = 'two-sided', (defualt)\n",
    "# 단측검정: \n",
    "# 좌측검정: alternative = 'less'\n",
    "# 우측검정: alternative = 'greater'\n",
    "\n",
    "# p-value(유의확률)가 유의수준(alpha, 0.05)보다 작은 경우 \n",
    "# (양측검정인 경우) 검정통계량의 절대값이 임계값보다 큰 경우 \n",
    "# --> 귀무가설 기각 "
   ]
  },
  {
   "attachments": {},
   "cell_type": "markdown",
   "metadata": {},
   "source": [
    "### 모수 검정 \n",
    "1. 정규성 검정\n",
    "2. 등분산성 검정 \n",
    "3. t-test\n",
    "4. ANOVA"
   ]
  },
  {
   "attachments": {},
   "cell_type": "markdown",
   "metadata": {},
   "source": [
    "정규성과 등분산성을 모두 만족할  때 \n",
    "t-test, ANOVA를 사용할 수 있다. "
   ]
  }
 ],
 "metadata": {
  "kernelspec": {
   "display_name": "Python 3",
   "language": "python",
   "name": "python3"
  },
  "language_info": {
   "codemirror_mode": {
    "name": "ipython",
    "version": 3
   },
   "file_extension": ".py",
   "mimetype": "text/x-python",
   "name": "python",
   "nbconvert_exporter": "python",
   "pygments_lexer": "ipython3",
   "version": "3.8.10"
  },
  "orig_nbformat": 4
 },
 "nbformat": 4,
 "nbformat_minor": 2
}
