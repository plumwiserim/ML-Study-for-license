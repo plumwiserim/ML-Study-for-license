{
 "cells": [
  {
   "cell_type": "code",
   "execution_count": 9,
   "metadata": {},
   "outputs": [
    {
     "data": {
      "text/plain": [
       "True"
      ]
     },
     "execution_count": 9,
     "metadata": {},
     "output_type": "execute_result"
    }
   ],
   "source": [
    "from scipy import stats\n",
    "\n",
    "'ttest_1samp' in [x for x in dir(stats) if x[0] !='_']\n",
    "\n",
    "\n",
    "# import pandas as pd\n",
    "\n",
    "# print(help(pd.DataFrame))"
   ]
  },
  {
   "attachments": {},
   "cell_type": "markdown",
   "metadata": {},
   "source": [
    "### 정규성 검정"
   ]
  },
  {
   "cell_type": "code",
   "execution_count": 10,
   "metadata": {},
   "outputs": [
    {
     "data": {
      "image/png": "[encoded data removed]",
      "text/plain": [
       "<Figure size 432x288 with 1 Axes>"
      ]
     },
     "metadata": {
      "needs_background": "light"
     },
     "output_type": "display_data"
    }
   ],
   "source": [
    "# 문제1. 다음 데이터의 정규성을 검증하라 \n",
    "\n",
    "import pandas as pd\n",
    "import matplotlib.pyplot as plt\n",
    "\n",
    "df = pd.read_csv('https://raw.githubusercontent.com/Datamanim/datarepo/main/scipy/normal1.csv')\n",
    "plt.hist(df)\n",
    "plt.show()"
   ]
  },
  {
   "cell_type": "code",
   "execution_count": 11,
   "metadata": {},
   "outputs": [
    {
     "name": "stdout",
     "output_type": "stream",
     "text": [
      "ShapiroResult(statistic=0.9981446862220764, pvalue=0.3485966622829437)\n"
     ]
    }
   ],
   "source": [
    "# 풀이1. \n",
    "from scipy.stats import shapiro\n",
    "print(shapiro(df))\n",
    "\n",
    "# 샤피로 검정시 p-value가 0.34이므로 유의수준 5%에서 귀무가설(\"데이터는 정규성을 가진다\")을 기각할 수 없다\n",
    "# 즉, 해당 데이터는 정규성을 가지지 않는다. "
   ]
  },
  {
   "cell_type": "code",
   "execution_count": 14,
   "metadata": {},
   "outputs": [
    {
     "data": {
      "image/png": "[encoded data removed]",
      "text/plain": [
       "<Figure size 432x288 with 1 Axes>"
      ]
     },
     "metadata": {
      "needs_background": "light"
     },
     "output_type": "display_data"
    }
   ],
   "source": [
    "# 문제 2. 다음 데이터의 정규성을 검증하라 \n",
    "import pandas as pd\n",
    "import matplotlib.pyplot as plt\n",
    "\n",
    "df = pd.read_csv('https://raw.githubusercontent.com/Datamanim/datarepo/main/scipy/normal3.csv')\n",
    "plt.hist(df)\n",
    "plt.show()"
   ]
  },
  {
   "cell_type": "code",
   "execution_count": 17,
   "metadata": {},
   "outputs": [
    {
     "name": "stdout",
     "output_type": "stream",
     "text": [
      "ShapiroResult(statistic=0.9578887224197388, pvalue=2.309859641255865e-16)\n"
     ]
    }
   ],
   "source": [
    "from scipy.stats import shapiro\n",
    "\n",
    "print(shapiro(df))\n",
    "\n",
    "# 샤피로 검정 시, p-value가 2.3 이므로 유의수준 5%에서 귀무가설('데이터는 정규성을 가진다')를 기각하고 대립가설을 채택한다. \n",
    "# 즉, 해당 데이터는 정규성을 가지지 않는다. "
   ]
  },
  {
   "cell_type": "code",
   "execution_count": 12,
   "metadata": {},
   "outputs": [
    {
     "data": {
      "image/png": "[encoded data removed]",
      "text/plain": [
       "<Figure size 432x288 with 1 Axes>"
      ]
     },
     "metadata": {
      "needs_background": "light"
     },
     "output_type": "display_data"
    }
   ],
   "source": [
    "# 문제3. 위의 데이터를 log 변환한 후에 정규성을 가지는지 확인하라 \n",
    "import numpy as np\n",
    "import matplotlib.pyplot as plt\n",
    "import pandas as pd\n",
    "\n",
    "df = pd.read_csv('https://raw.githubusercontent.com/Datamanim/datarepo/main/scipy/normal3.csv')\n",
    "\n",
    "# 로그 변환 \n",
    "log_y_data = np.log1p(df)\n",
    "\n",
    "plt.hist(log_y_data)\n",
    "plt.show()"
   ]
  },
  {
   "cell_type": "code",
   "execution_count": 13,
   "metadata": {},
   "outputs": [
    {
     "name": "stdout",
     "output_type": "stream",
     "text": [
      "ShapiroResult(statistic=0.9976891279220581, pvalue=0.17545907199382782)\n"
     ]
    }
   ],
   "source": [
    "from scipy.stats import shapiro\n",
    "\n",
    "print(shapiro(log_y_data))\n",
    "\n",
    "# 샤피로 검정 시 p-value가 0.175로 유의수준 5%에서 귀무가설('로그변환한 데이터는 정규성을 가진다')를 기각할 수 있다. \n",
    "# 즉, 해당 데이터는 정규성을 가진다. "
   ]
  },
  {
   "cell_type": "code",
   "execution_count": 18,
   "metadata": {},
   "outputs": [
    {
     "data": {
      "image/png": "[encoded data removed]",
      "text/plain": [
       "<Figure size 432x288 with 1 Axes>"
      ]
     },
     "metadata": {
      "needs_background": "light"
     },
     "output_type": "display_data"
    }
   ],
   "source": [
    "# 문제. 다음 데이터의 정규성을 검증하라 \n",
    "import pandas as pd\n",
    "import matplotlib.pyplot as plt\n",
    "\n",
    "df = pd.read_csv('https://raw.githubusercontent.com/Datamanim/datarepo/main/scipy/normal6.csv')\n",
    "plt.hist(df)\n",
    "plt.show()"
   ]
  },
  {
   "cell_type": "code",
   "execution_count": 19,
   "metadata": {},
   "outputs": [
    {
     "name": "stdout",
     "output_type": "stream",
     "text": [
      "ShapiroResult(statistic=0.9995355606079102, pvalue=0.15070641040802002)\n"
     ]
    },
    {
     "name": "stderr",
     "output_type": "stream",
     "text": [
      "c:\\Users\\yerim\\anaconda3\\lib\\site-packages\\scipy\\stats\\morestats.py:1681: UserWarning: p-value may not be accurate for N > 5000.\n",
      "  warnings.warn(\"p-value may not be accurate for N > 5000.\")\n"
     ]
    }
   ],
   "source": [
    "from scipy.stats import shapiro\n",
    "\n",
    "print(shapiro(df))\n",
    "\n",
    "# 샤피로 검정 시, p-value가 0.15 이므로 귀무가설('데이터는 정규성을 가진다')를 기각할 수 없다. \n",
    "# 즉, 데이터는 정규성을 가진다. \n",
    "# 하지만, 경고 메시지와 같이 5000개를 초과하는 샘플에 대해서 샤피로 검정은 정확하지 않을 수 있다. "
   ]
  },
  {
   "cell_type": "code",
   "execution_count": 22,
   "metadata": {},
   "outputs": [
    {
     "name": "stdout",
     "output_type": "stream",
     "text": [
      "AndersonResult(statistic=0.8266993530414766, critical_values=array([0.576, 0.656, 0.786, 0.917, 1.091]), significance_level=array([15. , 10. ,  5. ,  2.5,  1. ]))\n"
     ]
    }
   ],
   "source": [
    "from scipy.stats import anderson\n",
    "\n",
    "# anderson 검정을 실시한다. \n",
    "# parameter 에는 array 타입 데이터를 입력해야 한다. \n",
    "print(anderson(df['data'].values))\n",
    "\n",
    "# significance_level: 유의 확률값\n",
    "# critical_values: 각 유의 확률값의 기준점 \n",
    "# 유의수준 5% 에서 검정을 진행하려면, significance_level 에서 5.가 위치한 인덱스를 critical_values에서 찾으면 된다. \n",
    "# 따라서, 해당 데이터는 유의수준 5%에서 기준점 0.78보다 높은 0.82 값을 가지므로 귀무가설을 기각하고 대립가설을 채택한다. \n",
    "# 즉, 해당 데이터는 정규성을 띄지 않는다. "
   ]
  },
  {
   "attachments": {},
   "cell_type": "markdown",
   "metadata": {},
   "source": [
    "### 단일 표본 t검정 (one-sample)"
   ]
  },
  {
   "cell_type": "code",
   "execution_count": 26,
   "metadata": {},
   "outputs": [
    {
     "name": "stdout",
     "output_type": "stream",
     "text": [
      "샤피로 정규성 검정 p-value: 0.455832302570343 이므로\n",
      "귀무가설을 기각할 수 없다. \n",
      "윌콕슨 순위 부호 검정의 귀무가설은 \"100명 키의 평균은 165이다.\"이며\n",
      "대립가설은 \"100명 키의 평균은 165가 아니다.\"이다.\n"
     ]
    }
   ],
   "source": [
    "# 문제. 100명의 키 정보가 들어 있는 데이터가 있다. \n",
    "# 데이터가 정규성을 만족하는지 확인하라. \n",
    "# 그리고 평균 키는 165라 판단할 수 있는지 귀무가설과 대립가설을 설정한 후 유의수준 5%로 검정하라 \n",
    "\n",
    "import pandas as pd\n",
    "\n",
    "df = pd.read_csv('https://raw.githubusercontent.com/Datamanim/datarepo/main/scipy/height1.csv')\n",
    "\n",
    "\n",
    "# 풀이1. \n",
    "from scipy.stats import shapiro\n",
    "\n",
    "static, pvalue = shapiro(df)\n",
    "print('샤피로 정규성 검정 p-value:', pvalue, '이므로')\n",
    "\n",
    "# 샤피로 검정 시, p-value가 0.45 이므로 유의수준 5%에서 귀무가설을 기각할 수 없다. \n",
    "# 따라서, 해당 데이터는 정규성을 가진다. \n",
    "\n",
    "if pvalue < 0.05: \n",
    "    print('귀무가설을 기각한다. 대립가설을 채택한다. ')\n",
    "    print('정규성을 만족하지 않으므로 비모수 검정을 진행한다. ')\n",
    "    print('윌콕슨 순위 부호 검정을 진행한다. ')\n",
    "else: \n",
    "    print('귀무가설을 기각할 수 없다. ')\n",
    "    print('윌콕슨 순위 부호 검정의 귀무가설은 \"100명 키의 평균은 165이다.\"이며')\n",
    "    print('대립가설은 \"100명 키의 평균은 165가 아니다.\"이다.')\n",
    "\n",
    "\n",
    "# 풀이2. \n",
    "\n"
   ]
  },
  {
   "cell_type": "code",
   "execution_count": null,
   "metadata": {},
   "outputs": [],
   "source": []
  }
 ],
 "metadata": {
  "kernelspec": {
   "display_name": "base",
   "language": "python",
   "name": "python3"
  },
  "language_info": {
   "codemirror_mode": {
    "name": "ipython",
    "version": 3
   },
   "file_extension": ".py",
   "mimetype": "text/x-python",
   "name": "python",
   "nbconvert_exporter": "python",
   "pygments_lexer": "ipython3",
   "version": "3.8.8"
  },
  "orig_nbformat": 4
 },
 "nbformat": 4,
 "nbformat_minor": 2
}
