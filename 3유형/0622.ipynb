{
 "cells": [
  {
   "cell_type": "code",
   "execution_count": 1,
   "metadata": {},
   "outputs": [
    {
     "name": "stdout",
     "output_type": "stream",
     "text": [
      "귀무가설 기각, 대립가설 채택\n"
     ]
    }
   ],
   "source": [
    "pvalue = 2.3e-16\n",
    "\n",
    "if pvalue < 0.05: \n",
    "    print('귀무가설 기각, 대립가설 채택')\n",
    "elif pvalue > 0.05: \n",
    "    print('귀무가설 채택, 대립가설 기각')"
   ]
  },
  {
   "attachments": {},
   "cell_type": "markdown",
   "metadata": {},
   "source": [
    "정규성 검정"
   ]
  },
  {
   "cell_type": "code",
   "execution_count": 15,
   "metadata": {},
   "outputs": [
    {
     "data": {
      "image/png": "[encoded data removed]",
      "text/plain": [
       "<Figure size 432x288 with 1 Axes>"
      ]
     },
     "metadata": {
      "needs_background": "light"
     },
     "output_type": "display_data"
    },
    {
     "name": "stdout",
     "output_type": "stream",
     "text": [
      "ShapiroResult(statistic=0.9578887224197388, pvalue=2.309859641255865e-16)\n",
      "귀무가설: 정규성을 만족한다. \n",
      "귀무가설 기각\n",
      "ShapiroResult(statistic=0.9976891279220581, pvalue=0.17545907199382782)\n",
      "귀무가설: 정규성을 만족한다.\n",
      "귀무가설 채택\n"
     ]
    }
   ],
   "source": [
    "import pandas as pd \n",
    "import matplotlib.pyplot as plt\n",
    "df = pd.read_csv('https://raw.githubusercontent.com/Datamanim/datarepo/main/scipy/normal3.csv')\n",
    "plt.hist(df)\n",
    "plt.show()\n",
    "\n",
    "# 정규성 검정\n",
    "from scipy.stats import shapiro \n",
    "\n",
    "print(shapiro(df))\n",
    "\n",
    "pvalue = shapiro(df).pvalue\n",
    "\n",
    "print('귀무가설: 정규성을 만족한다. ')\n",
    "if pvalue > 0.05: \n",
    "    print('귀무가설 채택')\n",
    "else: \n",
    "    print('귀무가설 기각')\n",
    "\n",
    "# 로그 변환\n",
    "import numpy as np \n",
    "\n",
    "log_df = np.log1p(df)\n",
    "print(shapiro(log_df))\n",
    "\n",
    "pvalue = shapiro(log_df).pvalue\n",
    "\n",
    "print('귀무가설: 정규성을 만족한다.')\n",
    "if pvalue > 0.05: \n",
    "    print('귀무가설 채택')\n",
    "else: \n",
    "    print('귀무가설 기각')"
   ]
  },
  {
   "cell_type": "code",
   "execution_count": 20,
   "metadata": {},
   "outputs": [
    {
     "data": {
      "text/html": [
       "<div>\n",
       "<style scoped>\n",
       "    .dataframe tbody tr th:only-of-type {\n",
       "        vertical-align: middle;\n",
       "    }\n",
       "\n",
       "    .dataframe tbody tr th {\n",
       "        vertical-align: top;\n",
       "    }\n",
       "\n",
       "    .dataframe thead th {\n",
       "        text-align: right;\n",
       "    }\n",
       "</style>\n",
       "<table border=\"1\" class=\"dataframe\">\n",
       "  <thead>\n",
       "    <tr style=\"text-align: right;\">\n",
       "      <th></th>\n",
       "      <th>data</th>\n",
       "    </tr>\n",
       "  </thead>\n",
       "  <tbody>\n",
       "    <tr>\n",
       "      <th>0</th>\n",
       "      <td>296.016803</td>\n",
       "    </tr>\n",
       "    <tr>\n",
       "      <th>1</th>\n",
       "      <td>299.628476</td>\n",
       "    </tr>\n",
       "    <tr>\n",
       "      <th>2</th>\n",
       "      <td>298.232057</td>\n",
       "    </tr>\n",
       "    <tr>\n",
       "      <th>3</th>\n",
       "      <td>293.256749</td>\n",
       "    </tr>\n",
       "    <tr>\n",
       "      <th>4</th>\n",
       "      <td>301.037710</td>\n",
       "    </tr>\n",
       "    <tr>\n",
       "      <th>...</th>\n",
       "      <td>...</td>\n",
       "    </tr>\n",
       "    <tr>\n",
       "      <th>5995</th>\n",
       "      <td>304.008424</td>\n",
       "    </tr>\n",
       "    <tr>\n",
       "      <th>5996</th>\n",
       "      <td>301.043219</td>\n",
       "    </tr>\n",
       "    <tr>\n",
       "      <th>5997</th>\n",
       "      <td>302.542420</td>\n",
       "    </tr>\n",
       "    <tr>\n",
       "      <th>5998</th>\n",
       "      <td>294.456145</td>\n",
       "    </tr>\n",
       "    <tr>\n",
       "      <th>5999</th>\n",
       "      <td>301.733819</td>\n",
       "    </tr>\n",
       "  </tbody>\n",
       "</table>\n",
       "<p>6000 rows × 1 columns</p>\n",
       "</div>"
      ],
      "text/plain": [
       "            data\n",
       "0     296.016803\n",
       "1     299.628476\n",
       "2     298.232057\n",
       "3     293.256749\n",
       "4     301.037710\n",
       "...          ...\n",
       "5995  304.008424\n",
       "5996  301.043219\n",
       "5997  302.542420\n",
       "5998  294.456145\n",
       "5999  301.733819\n",
       "\n",
       "[6000 rows x 1 columns]"
      ]
     },
     "metadata": {},
     "output_type": "display_data"
    },
    {
     "name": "stdout",
     "output_type": "stream",
     "text": [
      "귀무가설: 정규성을 만족한다.\n",
      "귀무가설 채택\n",
      "AndersonResult(statistic=0.8266993530414766, critical_values=array([0.576, 0.656, 0.786, 0.917, 1.091]), significance_level=array([15. , 10. ,  5. ,  2.5,  1. ]))\n"
     ]
    },
    {
     "name": "stderr",
     "output_type": "stream",
     "text": [
      "c:\\Users\\yerim\\anaconda3\\lib\\site-packages\\scipy\\stats\\morestats.py:1681: UserWarning: p-value may not be accurate for N > 5000.\n",
      "  warnings.warn(\"p-value may not be accurate for N > 5000.\")\n"
     ]
    }
   ],
   "source": [
    "import pandas as pd \n",
    "import matplotlib.pyplot as plt\n",
    "df = pd.read_csv('https://raw.githubusercontent.com/Datamanim/datarepo/main/scipy/normal6.csv')\n",
    "# plt.hist(df)\n",
    "# plt.show()\n",
    "display(df)\n",
    "\n",
    "from scipy.stats import shapiro, anderson \n",
    "\n",
    "pvalue = shapiro(df).pvalue\n",
    "print('귀무가설: 정규성을 만족한다.')\n",
    "if pvalue > 0.05: \n",
    "    print('귀무가설 채택')\n",
    "else: \n",
    "    print('귀무가설 기각')\n",
    "\n",
    "print(anderson(df['data'].values))\n"
   ]
  },
  {
   "attachments": {},
   "cell_type": "markdown",
   "metadata": {},
   "source": [
    "등분산성"
   ]
  },
  {
   "cell_type": "code",
   "execution_count": 12,
   "metadata": {},
   "outputs": [
    {
     "data": {
      "text/html": [
       "<div>\n",
       "<style scoped>\n",
       "    .dataframe tbody tr th:only-of-type {\n",
       "        vertical-align: middle;\n",
       "    }\n",
       "\n",
       "    .dataframe tbody tr th {\n",
       "        vertical-align: top;\n",
       "    }\n",
       "\n",
       "    .dataframe thead th {\n",
       "        text-align: right;\n",
       "    }\n",
       "</style>\n",
       "<table border=\"1\" class=\"dataframe\">\n",
       "  <thead>\n",
       "    <tr style=\"text-align: right;\">\n",
       "      <th></th>\n",
       "      <th>class</th>\n",
       "      <th>score</th>\n",
       "    </tr>\n",
       "  </thead>\n",
       "  <tbody>\n",
       "    <tr>\n",
       "      <th>0</th>\n",
       "      <td>A</td>\n",
       "      <td>84</td>\n",
       "    </tr>\n",
       "    <tr>\n",
       "      <th>1</th>\n",
       "      <td>A</td>\n",
       "      <td>59</td>\n",
       "    </tr>\n",
       "    <tr>\n",
       "      <th>2</th>\n",
       "      <td>A</td>\n",
       "      <td>49</td>\n",
       "    </tr>\n",
       "    <tr>\n",
       "      <th>3</th>\n",
       "      <td>A</td>\n",
       "      <td>57</td>\n",
       "    </tr>\n",
       "    <tr>\n",
       "      <th>4</th>\n",
       "      <td>A</td>\n",
       "      <td>82</td>\n",
       "    </tr>\n",
       "  </tbody>\n",
       "</table>\n",
       "</div>"
      ],
      "text/plain": [
       "  class  score\n",
       "0     A     84\n",
       "1     A     59\n",
       "2     A     49\n",
       "3     A     57\n",
       "4     A     82"
      ]
     },
     "metadata": {},
     "output_type": "display_data"
    },
    {
     "data": {
      "text/plain": [
       "class    0\n",
       "score    0\n",
       "dtype: int64"
      ]
     },
     "metadata": {},
     "output_type": "display_data"
    },
    {
     "name": "stdout",
     "output_type": "stream",
     "text": [
      "0.609873758447687\n",
      "FlignerResult(statistic=0.7281251154135562, pvalue=0.39349158741002765)\n",
      "FlignerResult(statistic=0.8272211734319945, pvalue=0.36307728836821906)\n",
      "LeveneResult(statistic=0.3145466542912649, pvalue=0.5751662820554713)\n",
      "LeveneResult(statistic=0.5086970687685527, pvalue=0.4760514837800255)\n"
     ]
    }
   ],
   "source": [
    "import pandas as pd \n",
    "df = pd.read_csv('https://raw.githubusercontent.com/Datamanim/datarepo/main/scipy/scipy2.csv')\n",
    "display(df.head())\n",
    "\n",
    "# 결측치 확인 \n",
    "display(df.isnull().sum())\n",
    "\n",
    "# 등분산성 검정\n",
    "from scipy.stats import bartlett, fligner, levene\n",
    "\n",
    "a = df[df['class'] == 'A']['score']\n",
    "b = df[df['class'] == 'B']['score']\n",
    "\n",
    "print(bartlett(a, b).pvalue)\n",
    "\n",
    "print(fligner(a, b, center='median'))\n",
    "print(fligner(a, b, center='mean'))\n",
    "\n",
    "print(levene(a, b, center='median'))\n",
    "print(levene(a, b, center='mean'))"
   ]
  },
  {
   "attachments": {},
   "cell_type": "markdown",
   "metadata": {},
   "source": [
    "단일 표본 T검정"
   ]
  },
  {
   "cell_type": "code",
   "execution_count": 2,
   "metadata": {},
   "outputs": [
    {
     "name": "stdout",
     "output_type": "stream",
     "text": [
      "shapiro 정규성 검정 시, pvalue는 0.455832302570343 으로\n",
      "정규성을 만족하므로 단일 표본 T검정을 수행한다.\n",
      "\n",
      "단일 표본 T검정 시, pvalue는 0.0018367171548080209 이므로\n",
      "(귀무가설: 100명의 평균 키는 165이다.) 기각\n"
     ]
    }
   ],
   "source": [
    "import pandas as pd \n",
    "df = pd.read_csv('https://raw.githubusercontent.com/Datamanim/datarepo/main/scipy/height1.csv')\n",
    "# display(df)\n",
    "\n",
    "from scipy.stats import shapiro \n",
    "from scipy.stats import ttest_1samp\n",
    "from scipy.stats import wilcoxon\n",
    "\n",
    "shapiro_pvalue = shapiro(df).pvalue\n",
    "print('shapiro 정규성 검정 시, pvalue는', shapiro_pvalue, '으로')\n",
    "\n",
    "alpha = 0.05\n",
    "if shapiro_pvalue > alpha : \n",
    "    print('정규성을 만족하므로 단일 표본 T검정을 수행한다.\\n')\n",
    "\n",
    "    # 단일 표본 T검정 \n",
    "    pvalue = ttest_1samp(df['height'], 165).pvalue\n",
    "    print('단일 표본 T검정 시, pvalue는', pvalue, '이므로')\n",
    "\n",
    "    print('(귀무가설: 100명의 평균 키는 165이다.)', end ='')\n",
    "    if pvalue > 0.05: \n",
    "        print(' 채택')\n",
    "    else: \n",
    "        print(' 기각')\n",
    "\n",
    "else: \n",
    "    print('귀무가설 기각, 정규성을 가지지 않는다.\\n')\n",
    "    print('따라서 비모수 검정(wilcoxon)을 수행한다.')\n",
    "\n",
    "    # 비모수 검정(wilcoxon)\n",
    "    pvalue = wilcoxon(df['height'] - 165).pvalue\n",
    "    print('비모수 검정 시, pvalue는', pvalue, '이므로')\n",
    "\n",
    "    if pvalue > 0.05: \n",
    "        print(' 채택')\n",
    "    else: \n",
    "        print(' 기각')\n"
   ]
  },
  {
   "attachments": {},
   "cell_type": "markdown",
   "metadata": {},
   "source": [
    "독립 표본 T검정"
   ]
  },
  {
   "cell_type": "code",
   "execution_count": 34,
   "metadata": {},
   "outputs": [
    {
     "data": {
      "image/png": "[encoded data removed]",
      "text/plain": [
       "<Figure size 432x288 with 1 Axes>"
      ]
     },
     "metadata": {
      "needs_background": "light"
     },
     "output_type": "display_data"
    }
   ],
   "source": [
    "import pandas as pd \n",
    "import matplotlib.pyplot as plt\n",
    "df1 = pd.read_csv('https://raw.githubusercontent.com/Datamanim/datarepo/main/scipy/ind1.csv')\n",
    "df2 = pd.read_csv('https://raw.githubusercontent.com/Datamanim/datarepo/main/scipy/ind2.csv')\n",
    "\n",
    "\n",
    "plt.hist(df1,label='df1',alpha=0.4)\n",
    "plt.hist(df2,label=\"df2\",alpha=0.4)\n",
    "plt.xlabel('Score bins')\n",
    "plt.ylabel('Counts')\n",
    "plt.legend()\n",
    "plt.show()"
   ]
  },
  {
   "cell_type": "code",
   "execution_count": 53,
   "metadata": {},
   "outputs": [
    {
     "data": {
      "text/plain": [
       "data    0\n",
       "dtype: int64"
      ]
     },
     "metadata": {},
     "output_type": "display_data"
    },
    {
     "data": {
      "text/plain": [
       "data    0\n",
       "dtype: int64"
      ]
     },
     "metadata": {},
     "output_type": "display_data"
    }
   ],
   "source": [
    "display(df1.isnull().sum())\n",
    "display(df2.isnull().sum())"
   ]
  },
  {
   "cell_type": "code",
   "execution_count": 44,
   "metadata": {},
   "outputs": [
    {
     "name": "stdout",
     "output_type": "stream",
     "text": [
      "ShapiroResult(statistic=0.9860947728157043, pvalue=0.37968069314956665)\n",
      "ShapiroResult(statistic=0.990182638168335, pvalue=0.6793646216392517)\n",
      "BartlettResult(statistic=4.170597307474754, pvalue=0.04113129672708929)\n",
      "FlignerResult(statistic=2.107582676566027, pvalue=0.14657068909613508)\n",
      "FlignerResult(statistic=2.3555639709996057, pvalue=0.12483673059701819)\n",
      "LeveneResult(statistic=2.5337683795339547, pvalue=0.11302904824469093)\n",
      "LeveneResult(statistic=2.7544079280040785, pvalue=0.09856970572214527)\n",
      "Ttest_indResult(statistic=array([2.76719074]), pvalue=array([0.00619015]))\n"
     ]
    }
   ],
   "source": [
    "# 문제. 두 학급의 시험 평균은 동일하다고 할 수 있는지 검정하라 \n",
    "\n",
    "# 정규성 검정 \n",
    "from scipy.stats import shapiro, anderson \n",
    "\n",
    "print(shapiro(df1))\n",
    "print(shapiro(df2))\n",
    "# --> 두 집단 모두 정규성을 만족한다. \n",
    "\n",
    "# 등분산성 검정 \n",
    "from scipy.stats import bartlett, fligner, levene \n",
    "\n",
    "# print(bartlett(df1['data'], df2['data']))\n",
    "# # --> 등분산성 만족하지 않는다. \n",
    "# print(fligner(df1, df2, center='median'))\n",
    "# print(fligner(df1, df2, center='mean'))\n",
    "# # --> 등분산성 만족한다. \n",
    "print(levene(df1['data'], df2['data'], center='median'))\n",
    "print(levene(df1['data'], df2['data'], center='mean'))\n",
    "# --> 등분산성 만족한다. \n",
    "\n",
    "from scipy.stats import ttest_ind\n",
    "print(ttest_ind(df1, df2))\n",
    "# 귀무가설: 두 집단의 평균은 동일하다. \n",
    "# 즉, 두 집단은 독립적이지 않다. \n",
    "\n",
    "# 대립가설 채택 \n",
    "# --> 두 집단의 평균은 동일하지 않다. \n",
    "# --> 두 집단은 독립이다. "
   ]
  },
  {
   "cell_type": "code",
   "execution_count": 45,
   "metadata": {},
   "outputs": [
    {
     "data": {
      "image/png": "[encoded data removed]",
      "text/plain": [
       "<Figure size 432x288 with 1 Axes>"
      ]
     },
     "metadata": {
      "needs_background": "light"
     },
     "output_type": "display_data"
    }
   ],
   "source": [
    "import pandas as pd \n",
    "import matplotlib.pyplot as plt\n",
    "df = pd.read_csv('https://raw.githubusercontent.com/Datamanim/datarepo/main/scipy/scipy5.csv')\n",
    "\n",
    "plt.hist(df['A'],alpha=0.5,label='A')\n",
    "plt.hist(df['B'].dropna(),alpha=0.5,label=\"B\")\n",
    "plt.xlabel('Score bins')\n",
    "plt.ylabel('Counts')\n",
    "plt.legend()\n",
    "plt.show()"
   ]
  },
  {
   "cell_type": "code",
   "execution_count": 56,
   "metadata": {},
   "outputs": [
    {
     "name": "stdout",
     "output_type": "stream",
     "text": [
      "A      0\n",
      "B    120\n",
      "dtype: int64\n",
      "A    0\n",
      "B    0\n",
      "dtype: int64\n"
     ]
    }
   ],
   "source": [
    "print(df.isnull().sum())\n",
    "df = df.dropna()\n",
    "print(df.isnull().sum())"
   ]
  },
  {
   "cell_type": "code",
   "execution_count": 57,
   "metadata": {},
   "outputs": [
    {
     "name": "stdout",
     "output_type": "stream",
     "text": [
      "ShapiroResult(statistic=0.9456477761268616, pvalue=2.320352905371692e-06)\n",
      "ShapiroResult(statistic=0.9639440774917603, pvalue=0.00013570845476351678)\n",
      "False\n",
      "True\n",
      "True\n"
     ]
    }
   ],
   "source": [
    "# 문제. 두 학급의 시험 평균은 동일한지 검정하라 \n",
    "\n",
    "# 정규성 검정\n",
    "from scipy.stats import shapiro, anderson\n",
    "print(shapiro(df['A']))\n",
    "print(shapiro(df['B']))\n",
    "\n",
    "print(shapiro(df['A']).pvalue > 0.05)\n",
    "# --> A 집단은 정규성을 만족하지 않는다. \n",
    "\n",
    "# 비모수 검정 \n",
    "from scipy.stats import mannwhitneyu, ranksums\n",
    "\n",
    "print(mannwhitneyu(df['A'], df['B']).pvalue>0.05)\n",
    "print(ranksums(df['A'], df['B']).pvalue>0.05)\n",
    "# 귀무가설: 두 집단은 서로 평균이 같다. \n",
    "# 즉, 두 집단은 서로 독립적이지 않다. \n",
    "\n",
    "# --> 귀무가설 채택\n",
    "# --> 두 집단은 서로 평균이 같고, 독립적이지 않다. "
   ]
  },
  {
   "cell_type": "code",
   "execution_count": 58,
   "metadata": {},
   "outputs": [
    {
     "data": {
      "image/png": "[encoded data removed]",
      "text/plain": [
       "<Figure size 432x288 with 1 Axes>"
      ]
     },
     "metadata": {
      "needs_background": "light"
     },
     "output_type": "display_data"
    }
   ],
   "source": [
    "import pandas as pd \n",
    "import matplotlib.pyplot as plt\n",
    "df = pd.read_csv('https://raw.githubusercontent.com/Datamanim/datarepo/main/scipy/ind3.csv')\n",
    "\n",
    "plt.hist(df[df['group'] =='a'].data,label='A',alpha=0.5)\n",
    "plt.hist(df[df['group'] =='b'].data,label=\"B\",alpha=0.5)\n",
    "plt.xlabel('Score bins')\n",
    "plt.ylabel('Counts')\n",
    "plt.legend()\n",
    "plt.show()"
   ]
  },
  {
   "cell_type": "code",
   "execution_count": 59,
   "metadata": {},
   "outputs": [
    {
     "name": "stdout",
     "output_type": "stream",
     "text": [
      "group    0\n",
      "data     0\n",
      "dtype: int64\n"
     ]
    }
   ],
   "source": [
    "print(df.isnull().sum())"
   ]
  },
  {
   "cell_type": "code",
   "execution_count": 66,
   "metadata": {},
   "outputs": [
    {
     "name": "stdout",
     "output_type": "stream",
     "text": [
      "ShapiroResult(statistic=0.9834123253822327, pvalue=0.1473984718322754)\n",
      "ShapiroResult(statistic=0.9831849336624146, pvalue=0.47018250823020935)\n",
      "LeveneResult(statistic=6.185601018015722, pvalue=0.013750484571911342)\n",
      "LeveneResult(statistic=6.0448405973286246, pvalue=0.014852059669056625)\n"
     ]
    },
    {
     "data": {
      "text/plain": [
       "Ttest_indResult(statistic=-2.1949470315829265, pvalue=0.029512802991767915)"
      ]
     },
     "execution_count": 66,
     "metadata": {},
     "output_type": "execute_result"
    }
   ],
   "source": [
    "# 문제. 두 집단의 평균은 같은지 검정하라 \n",
    "# 정규성 검정 \n",
    "from scipy.stats import shapiro, anderson \n",
    "\n",
    "a = df[df['group']=='a']['data']\n",
    "b = df[df['group']=='b']['data']\n",
    "\n",
    "print(shapiro(a))\n",
    "print(shapiro(b))\n",
    "# --> 두 집단은 모두 정규성을 만족한다. \n",
    "\n",
    "# 등분산성 검정\n",
    "from scipy.stats import bartlett, fligner, levene\n",
    "\n",
    "# print(bartlett(a, b))\n",
    "# # --> 등분산성 성립하지 않는다. \n",
    "# print(fligner(a, b, center='median'))\n",
    "# print(fligner(a, b, center='mean'))\n",
    "# # --> 등분산성 성립하지 않는다. \n",
    "print(levene(a, b, center='median'))\n",
    "print(levene(a, b, center='mean'))\n",
    "# --> 등분산성 성립하지 않는다. \n",
    "\n",
    "# 두 집단의 독립성 검정 \n",
    "print(ttest_ind(a, b, equal_var=False))\n",
    "# 귀무가설: 두 집단의 평균은 서로 같고, 독립적이지 않다. \n",
    "# --> 귀무가설 기각, 대립가설 채택 \n",
    "# 두 집단은 서로 독립적이다. \n"
   ]
  },
  {
   "cell_type": "code",
   "execution_count": 68,
   "metadata": {},
   "outputs": [
    {
     "name": "stdout",
     "output_type": "stream",
     "text": [
      "              a           b\n",
      "0    121.023118   69.982090\n",
      "1     69.740978  139.774624\n",
      "2     93.737693  175.425924\n",
      "3    100.331645   85.493555\n",
      "4     75.048925   83.488953\n",
      "..          ...         ...\n",
      "115   97.955501         NaN\n",
      "116  116.839209         NaN\n",
      "117   88.257448         NaN\n",
      "118   89.904714         NaN\n",
      "119   88.250342         NaN\n",
      "\n",
      "[120 rows x 2 columns]\n"
     ]
    }
   ],
   "source": [
    "import pandas as pd \n",
    "import matplotlib.pyplot as plt\n",
    "df = pd.read_csv('https://raw.githubusercontent.com/Datamanim/datarepo/main/scipy/ind6.csv')\n",
    "\n",
    "print(df)"
   ]
  },
  {
   "cell_type": "code",
   "execution_count": 69,
   "metadata": {},
   "outputs": [
    {
     "data": {
      "image/png": "[encoded data removed]",
      "text/plain": [
       "<Figure size 432x288 with 1 Axes>"
      ]
     },
     "metadata": {
      "needs_background": "light"
     },
     "output_type": "display_data"
    }
   ],
   "source": [
    "plt.hist(df['a'],alpha=0.5,label='A')\n",
    "plt.hist(df['b'],alpha=0.5,label=\"B\")\n",
    "plt.xlabel('Score bins')\n",
    "plt.ylabel('Counts')\n",
    "plt.legend()\n",
    "plt.show()"
   ]
  },
  {
   "cell_type": "code",
   "execution_count": 70,
   "metadata": {},
   "outputs": [
    {
     "name": "stdout",
     "output_type": "stream",
     "text": [
      "a     0\n",
      "b    50\n",
      "dtype: int64\n",
      "a    0\n",
      "b    0\n",
      "dtype: int64\n"
     ]
    }
   ],
   "source": [
    "print(df.isnull().sum())\n",
    "df.dropna(inplace=True)\n",
    "print(df.isnull().sum())"
   ]
  },
  {
   "cell_type": "code",
   "execution_count": 75,
   "metadata": {},
   "outputs": [
    {
     "name": "stdout",
     "output_type": "stream",
     "text": [
      "ShapiroResult(statistic=0.9836674928665161, pvalue=0.49541446566581726)\n",
      "ShapiroResult(statistic=0.9854329228401184, pvalue=0.5937777757644653)\n",
      "LeveneResult(statistic=4.247654406016666, pvalue=0.04118219810338821)\n",
      "LeveneResult(statistic=4.298941972110079, pvalue=0.039995629214321836)\n",
      "Ttest_indResult(statistic=0.3406665402843751, pvalue=0.7339049438228125)\n"
     ]
    }
   ],
   "source": [
    "# 문제. 두 집단이 서로 독립한지 검정하라 \n",
    "\n",
    "# 정규성 검정 \n",
    "from scipy.stats import shapiro\n",
    "\n",
    "print(shapiro(df['a']))\n",
    "print(shapiro(df['b']))\n",
    "# --> 두 집단은 모두 정규성을 만족한다. \n",
    "\n",
    "# 등분산성 검정 \n",
    "from scipy.stats import levene\n",
    "\n",
    "print(levene(df['a'], df['b'], center='median'))\n",
    "print(levene(df['a'], df['b'], center='mean'))\n",
    "# --> 두 집단은 등분산성을 만족하지 않는다. \n",
    "\n",
    "# 독립성 검정 \n",
    "from scipy.stats import ttest_ind\n",
    "\n",
    "print(ttest_ind(df['a'], df['b'], equal_var=False))\n",
    "# --> 귀무가설 채택 \n",
    "# 두 집단은 서로 독립적이지 않다. "
   ]
  },
  {
   "attachments": {},
   "cell_type": "markdown",
   "metadata": {},
   "source": [
    "대응 표본 T검정"
   ]
  },
  {
   "cell_type": "code",
   "execution_count": 76,
   "metadata": {},
   "outputs": [
    {
     "name": "stdout",
     "output_type": "stream",
     "text": [
      "         before       after\n",
      "0    216.289726  175.897620\n",
      "1    190.279454  189.295934\n",
      "2    217.744689  219.233935\n",
      "3    235.021264  195.021021\n",
      "4    234.098484  213.218227\n",
      "..          ...         ...\n",
      "115  186.546583  239.845621\n",
      "116  199.853014  300.032396\n",
      "117  182.322187  201.310529\n",
      "118  256.739402  195.169040\n",
      "119  248.858766  292.766655\n",
      "\n",
      "[120 rows x 2 columns]\n"
     ]
    }
   ],
   "source": [
    "import pandas as pd \n",
    "import matplotlib.pyplot as plt\n",
    "df = pd.read_csv('https://raw.githubusercontent.com/Datamanim/datarepo/main/scipy/rel2.csv')\n",
    "\n",
    "print(df)\n",
    "# fig ,ax = plt.subplots(1,2)\n",
    "# ax[0].boxplot(df['before'])\n",
    "# ax[1].boxplot(df['after'])\n",
    "# ax[0].set_xticklabels(['before'])\n",
    "# ax[1].set_xticklabels(['after'])\n",
    "# ax[0].set_ylim(100,350)\n",
    "# ax[1].set_ylim(100,350)\n",
    "# ax[1].get_yaxis().set_visible(False)\n",
    "# ax[0].set_ylabel('value')\n",
    "# plt.show()"
   ]
  },
  {
   "cell_type": "code",
   "execution_count": 79,
   "metadata": {},
   "outputs": [
    {
     "name": "stdout",
     "output_type": "stream",
     "text": [
      "ShapiroResult(statistic=0.9907894134521484, pvalue=0.6065712571144104)\n",
      "ShapiroResult(statistic=0.9916958808898926, pvalue=0.6923439502716064)\n",
      "Ttest_relResult(statistic=-2.5535473487670677, pvalue=0.011926744724546513)\n"
     ]
    }
   ],
   "source": [
    "# 문제. 투약 전후 변화가 있는지 검정하라. \n",
    "\n",
    "# 정규성 검정 \n",
    "from scipy.stats import shapiro, anderson \n",
    "\n",
    "print(shapiro(df['before']))\n",
    "print(shapiro(df['after']))\n",
    "# --> 두 집단은 모두 정규성을 만족한다. \n",
    "\n",
    "# 대응 표본 T검정\n",
    "from scipy.stats import ttest_rel \n",
    "\n",
    "print(ttest_rel(df['before'], df['after']))\n",
    "# --> 귀무가설 기각, 대립가설 채택 \n",
    "# 투약 전후 변화가 있다. \n"
   ]
  },
  {
   "cell_type": "code",
   "execution_count": 80,
   "metadata": {},
   "outputs": [
    {
     "name": "stdout",
     "output_type": "stream",
     "text": [
      "         before       after\n",
      "0    253.566615  220.857837\n",
      "1    195.080189  209.206667\n",
      "2    228.299690  173.070057\n",
      "3    279.417367  222.356980\n",
      "4    230.062210  248.371045\n",
      "..          ...         ...\n",
      "115  198.366077  219.592137\n",
      "116  237.245234  234.151934\n",
      "117  264.968225  230.706493\n",
      "118  246.916445  275.615104\n",
      "119  254.735254  183.991936\n",
      "\n",
      "[120 rows x 2 columns]\n"
     ]
    }
   ],
   "source": [
    "import pandas as pd \n",
    "import matplotlib.pyplot as plt\n",
    "df = pd.read_csv('https://raw.githubusercontent.com/Datamanim/datarepo/main/scipy/rel3.csv')\n",
    "\n",
    "print(df)\n",
    "# fig ,ax = plt.subplots(1,2)\n",
    "# ax[0].boxplot(df['before'])\n",
    "# ax[1].boxplot(df['after'])\n",
    "# ax[0].set_xticklabels(['before'])\n",
    "# ax[1].set_xticklabels(['after'])\n",
    "# ax[0].set_ylim(130,300)\n",
    "# ax[1].set_ylim(130,300)\n",
    "# ax[1].get_yaxis().set_visible(False)\n",
    "# ax[0].set_ylabel('value')\n",
    "# plt.show()"
   ]
  },
  {
   "cell_type": "code",
   "execution_count": 82,
   "metadata": {},
   "outputs": [
    {
     "name": "stdout",
     "output_type": "stream",
     "text": [
      "ShapiroResult(statistic=0.9920635223388672, pvalue=0.7270597219467163)\n",
      "ShapiroResult(statistic=0.992019534111023, pvalue=0.7229286432266235)\n",
      "Ttest_relResult(statistic=0.188900575991026, pvalue=0.8504925317234707)\n"
     ]
    }
   ],
   "source": [
    "# 문제. 투약 전후 변화가 있는지 검정하라 \n",
    "\n",
    "# 정규성 검정 \n",
    "from scipy.stats import shapiro, anderson \n",
    "\n",
    "print(shapiro(df['before']))\n",
    "print(shapiro(df['after']))\n",
    "# --> 두 집단은 모두 정규성을 만족한다. \n",
    "\n",
    "# 대응표본 T검정\n",
    "from scipy.stats import ttest_rel \n",
    "\n",
    "print(ttest_rel(df['before'], df['after']))\n",
    "# --> 귀무가설 채택 \n",
    "# 투약 전후 변화가 없다. "
   ]
  },
  {
   "cell_type": "code",
   "execution_count": 83,
   "metadata": {},
   "outputs": [
    {
     "name": "stdout",
     "output_type": "stream",
     "text": [
      "    before  after\n",
      "0      153    162\n",
      "1      153    163\n",
      "2      158    159\n",
      "3      157    158\n",
      "4      167    160\n",
      "5      164    155\n",
      "6      168    167\n",
      "7      150    168\n",
      "8      155    162\n",
      "9      152    158\n",
      "10     157    151\n",
      "11     155    150\n",
      "12     151    169\n",
      "13     164    169\n",
      "14     154    168\n",
      "15     156    150\n",
      "16     150    163\n",
      "17     164    158\n",
      "18     153    153\n",
      "19     163    160\n",
      "20     150    166\n",
      "21     154    151\n",
      "22     150    166\n",
      "23     163    167\n",
      "24     165    160\n",
      "25     156    165\n",
      "26     150    155\n",
      "27     154    153\n",
      "28     152    169\n",
      "29     162    159\n",
      "30     150    169\n",
      "31     153    153\n",
      "32     162    154\n",
      "33     163    159\n",
      "34     153    155\n",
      "35     153    150\n",
      "36     151    162\n",
      "37     158    154\n",
      "38     153    154\n",
      "39     163    166\n",
      "40     159    156\n",
      "41     156    153\n",
      "42     152    160\n",
      "43     168    157\n",
      "44     154    167\n",
      "45     162    160\n",
      "46     165    160\n",
      "47     157    160\n",
      "48     161    159\n",
      "49     157    154\n"
     ]
    }
   ],
   "source": [
    "import pandas as pd \n",
    "import matplotlib.pyplot as plt\n",
    "df = pd.read_csv('https://raw.githubusercontent.com/Datamanim/datarepo/main/scipy/rel1.csv')\n",
    "\n",
    "print(df)\n",
    "# fig ,ax = plt.subplots(1,2)\n",
    "# ax[0].boxplot(df['before'])\n",
    "# ax[1].boxplot(df['after'])\n",
    "# ax[0].set_xticklabels(['before'])\n",
    "# ax[1].set_xticklabels(['after'])\n",
    "# ax[0].set_ylim(145,170)\n",
    "# ax[1].set_ylim(145,170)\n",
    "# ax[1].get_yaxis().set_visible(False)\n",
    "# ax[0].set_ylabel('value')\n",
    "# plt.show()"
   ]
  },
  {
   "cell_type": "code",
   "execution_count": 85,
   "metadata": {},
   "outputs": [
    {
     "name": "stdout",
     "output_type": "stream",
     "text": [
      "ShapiroResult(statistic=0.9173726439476013, pvalue=0.001897332607768476)\n",
      "ShapiroResult(statistic=0.9448971152305603, pvalue=0.021141061559319496)\n",
      "WilcoxonResult(statistic=437.0, pvalue=0.12098409484052809)\n"
     ]
    }
   ],
   "source": [
    "# 문제. 시험 전 후 차이가 있는지 검정하라 \n",
    "\n",
    "# 정규성 검정 \n",
    "from scipy.stats import shapiro, anderson \n",
    "\n",
    "print(shapiro(df['before']))\n",
    "print(shapiro(df['after']))\n",
    "# --> 두 집단 모두 정규성을 만족하지 않는다. \n",
    "\n",
    "# 대응 표본 T검정\n",
    "from scipy.stats import ttest_rel \n",
    "\n",
    "# print(ttest_rel(df['before'], df['after']))\n",
    "\n",
    "# 비모수 검정\n",
    "from scipy.stats import wilcoxon\n",
    "\n",
    "print(wilcoxon(df['before'], df['after']))\n",
    "# --> 귀무가설 채택 \n",
    "# 시험 전 후 차이가 없다. "
   ]
  },
  {
   "cell_type": "code",
   "execution_count": 87,
   "metadata": {},
   "outputs": [
    {
     "name": "stdout",
     "output_type": "stream",
     "text": [
      "            rpm group\n",
      "0    474.551593     a\n",
      "1    450.548420     a\n",
      "2    563.720934     a\n",
      "3    506.886966     a\n",
      "4    471.724049     a\n",
      "..          ...   ...\n",
      "135  508.802475     b\n",
      "136  485.981627     b\n",
      "137  499.289525     b\n",
      "138  520.895380     b\n",
      "139  506.458813     b\n",
      "\n",
      "[140 rows x 2 columns]\n"
     ]
    }
   ],
   "source": [
    "import pandas as pd \n",
    "import matplotlib.pyplot as plt\n",
    "df = pd.read_csv('https://raw.githubusercontent.com/Datamanim/datarepo/main/scipy/rel4.csv')\n",
    "\n",
    "print(df)\n",
    "# fig ,ax = plt.subplots(1,2)\n",
    "# ax[0].boxplot(df[df['group']=='a'].rpm)\n",
    "# ax[1].boxplot(df[df['group']=='b'].rpm)\n",
    "# ax[0].set_xticklabels(['a'])\n",
    "# ax[1].set_xticklabels(['b'])\n",
    "# ax[0].set_ylim(430,600)\n",
    "# ax[1].set_ylim(430,600)\n",
    "# ax[1].get_yaxis().set_visible(False)\n",
    "# ax[0].set_ylabel('rpm')\n",
    "# plt.show()"
   ]
  },
  {
   "cell_type": "code",
   "execution_count": 91,
   "metadata": {},
   "outputs": [
    {
     "name": "stdout",
     "output_type": "stream",
     "text": [
      "ShapiroResult(statistic=0.9907213449478149, pvalue=0.8884111046791077)\n",
      "ShapiroResult(statistic=0.984674870967865, pvalue=0.5505106449127197)\n",
      "Ttest_relResult(statistic=1.9018108294460812, pvalue=0.030685663464464715)\n",
      "Ttest_relResult(statistic=-1.9018108294460812, pvalue=0.030685663464464715)\n"
     ]
    }
   ],
   "source": [
    "# 문제. b > a 임을 검정하라 \n",
    "\n",
    "# 정규성 검정\n",
    "from scipy.stats import shapiro, anderson \n",
    "\n",
    "a = df[df['group'] == 'a']['rpm']\n",
    "b = df[df['group'] == 'b']['rpm']\n",
    "\n",
    "print(shapiro(a))\n",
    "print(shapiro(b))\n",
    "# --> 두 집단 모두 정규성 만족 \n",
    "\n",
    "# 대응 표본 T검정 \n",
    "from scipy.stats import ttest_rel \n",
    "\n",
    "# 정답 \n",
    "print(ttest_rel(b, a, alternative='greater'))\n",
    "# --> 귀무가설 기각, 대립가설 채택 \n",
    "# b상황에서 a상황보다 rpm 값이 높다. \n",
    "\n",
    "# 통계량 부호가 반대로 나온다. \n",
    "print(ttest_rel(a, b, alternative='less'))"
   ]
  },
  {
   "attachments": {},
   "cell_type": "markdown",
   "metadata": {},
   "source": [
    "카이 제곱 검정"
   ]
  },
  {
   "cell_type": "code",
   "execution_count": 5,
   "metadata": {},
   "outputs": [
    {
     "name": "stdout",
     "output_type": "stream",
     "text": [
      "   dice_number  counts\n",
      "0            1      24\n",
      "1            2      20\n",
      "2            3      28\n",
      "3            4      22\n",
      "4            5      28\n",
      "5            6      22\n"
     ]
    }
   ],
   "source": [
    "import pandas as pd \n",
    "import matplotlib.pyplot as plt\n",
    "df = pd.read_csv('https://raw.githubusercontent.com/Datamanim/datarepo/main/scipy/dice.csv')\n",
    "\n",
    "print(df)\n",
    "# plt.bar(df.dice_number,df.counts)\n",
    "# plt.xlabel('dice value')\n",
    "# plt.ylabel('counts')\n",
    "# plt.show()"
   ]
  },
  {
   "cell_type": "code",
   "execution_count": 12,
   "metadata": {},
   "outputs": [
    {
     "name": "stdout",
     "output_type": "stream",
     "text": [
      "   dice_number  counts  expected\n",
      "0            1      24        24\n",
      "1            2      20        24\n",
      "2            3      28        24\n",
      "3            4      22        24\n",
      "4            5      28        24\n",
      "5            6      22        24\n",
      "Power_divergenceResult(statistic=2.333333333333333, pvalue=0.8013589222076911)\n"
     ]
    },
    {
     "ename": "",
     "evalue": "",
     "output_type": "error",
     "traceback": [
      "\u001b[1;31mThe Kernel crashed while executing code in the the current cell or a previous cell. Please review the code in the cell(s) to identify a possible cause of the failure. Click <a href='https://aka.ms/vscodeJupyterKernelCrash'>here</a> for more info. View Jupyter <a href='command:jupyter.viewOutput'>log</a> for further details."
     ]
    }
   ],
   "source": [
    "from scipy.stats import chisquare\n",
    "\n",
    "df['expected'] = (df['counts']/6).sum().astype('int')\n",
    "print(df)\n",
    "\n",
    "print(chisquare(df['counts'], df['expected']))\n",
    "# 귀무가설 채택 \n",
    "# --> 주사위의 분포에서 나올 가능성이 없다. \n",
    "# 즉, 기대되는 분포와 일치한다. "
   ]
  },
  {
   "cell_type": "code",
   "execution_count": 2,
   "metadata": {},
   "outputs": [
    {
     "data": {
      "text/html": [
       "<div>\n",
       "<style scoped>\n",
       "    .dataframe tbody tr th:only-of-type {\n",
       "        vertical-align: middle;\n",
       "    }\n",
       "\n",
       "    .dataframe tbody tr th {\n",
       "        vertical-align: top;\n",
       "    }\n",
       "\n",
       "    .dataframe thead th {\n",
       "        text-align: right;\n",
       "    }\n",
       "</style>\n",
       "<table border=\"1\" class=\"dataframe\">\n",
       "  <thead>\n",
       "    <tr style=\"text-align: right;\">\n",
       "      <th></th>\n",
       "      <th>hands</th>\n",
       "      <th>expected</th>\n",
       "    </tr>\n",
       "  </thead>\n",
       "  <tbody>\n",
       "    <tr>\n",
       "      <th>right</th>\n",
       "      <td>420</td>\n",
       "      <td>400</td>\n",
       "    </tr>\n",
       "    <tr>\n",
       "      <th>left</th>\n",
       "      <td>80</td>\n",
       "      <td>100</td>\n",
       "    </tr>\n",
       "  </tbody>\n",
       "</table>\n",
       "</div>"
      ],
      "text/plain": [
       "       hands  expected\n",
       "right    420       400\n",
       "left      80       100"
      ]
     },
     "metadata": {},
     "output_type": "display_data"
    },
    {
     "data": {
      "text/plain": [
       "Power_divergenceResult(statistic=5.0, pvalue=0.025347318677468325)"
      ]
     },
     "execution_count": 2,
     "metadata": {},
     "output_type": "execute_result"
    }
   ],
   "source": [
    "# 문제1. 카이 제곱 검정(적합도 검정)\n",
    "import pandas as pd \n",
    "import matplotlib.pyplot as plt\n",
    "df = pd.read_csv('https://raw.githubusercontent.com/Datamanim/datarepo/main/scipy/hands2.csv')\n",
    "df.head()\n",
    "# display(df)\n",
    "\n",
    "target = df['hands'].value_counts().to_frame()\n",
    "# display(target)\n",
    "\n",
    "target['expected'] = [int(target['hands'].sum() * 0.8), int(target['hands'].sum() * 0.2)]\n",
    "display(target)\n",
    "\n",
    "from scipy.stats import chisquare \n",
    "\n",
    "chisquare(target['hands'], target['expected'])\n",
    "# 귀무가설: 왼손잡이: 오른손잡이 비율은 0.2:0.8 로 알려져있다. \n",
    "# --> 귀무가설 기각, 대립가설 채택 \n",
    "# 비율이 적합하지 않다 ! 주어진 데이터는 기대되는 분포와 일치하지 않다 ! "
   ]
  },
  {
   "cell_type": "code",
   "execution_count": 3,
   "metadata": {},
   "outputs": [
    {
     "data": {
      "text/html": [
       "<div>\n",
       "<style scoped>\n",
       "    .dataframe tbody tr th:only-of-type {\n",
       "        vertical-align: middle;\n",
       "    }\n",
       "\n",
       "    .dataframe tbody tr th {\n",
       "        vertical-align: top;\n",
       "    }\n",
       "\n",
       "    .dataframe thead th {\n",
       "        text-align: right;\n",
       "    }\n",
       "</style>\n",
       "<table border=\"1\" class=\"dataframe\">\n",
       "  <thead>\n",
       "    <tr style=\"text-align: right;\">\n",
       "      <th>등급</th>\n",
       "      <th>A</th>\n",
       "      <th>B</th>\n",
       "      <th>C</th>\n",
       "      <th>D</th>\n",
       "    </tr>\n",
       "    <tr>\n",
       "      <th>측정회원성별</th>\n",
       "      <th></th>\n",
       "      <th></th>\n",
       "      <th></th>\n",
       "      <th></th>\n",
       "    </tr>\n",
       "  </thead>\n",
       "  <tbody>\n",
       "    <tr>\n",
       "      <th>F</th>\n",
       "      <td>1484</td>\n",
       "      <td>1130</td>\n",
       "      <td>1147</td>\n",
       "      <td>1120</td>\n",
       "    </tr>\n",
       "    <tr>\n",
       "      <th>M</th>\n",
       "      <td>1865</td>\n",
       "      <td>2219</td>\n",
       "      <td>2202</td>\n",
       "      <td>2229</td>\n",
       "    </tr>\n",
       "  </tbody>\n",
       "</table>\n",
       "</div>"
      ],
      "text/plain": [
       "등급         A     B     C     D\n",
       "측정회원성별                        \n",
       "F       1484  1130  1147  1120\n",
       "M       1865  2219  2202  2229"
      ]
     },
     "metadata": {},
     "output_type": "display_data"
    },
    {
     "name": "stdout",
     "output_type": "stream",
     "text": [
      "(120.06233631119409, 7.481892813401677e-26, 3, array([[1220.25, 1220.25, 1220.25, 1220.25],\n",
      "       [2128.75, 2128.75, 2128.75, 2128.75]]))\n",
      "pvalue:  7.481892813401677e-26\n",
      "귀무가설: 성별과 등급은 연관이 없다.\n",
      "귀무가설을 기각한다. \n"
     ]
    }
   ],
   "source": [
    "# 문제2. 성별과 등급이 독립적인지 검정하라 \n",
    "import pandas as pd \n",
    "import matplotlib.pyplot as plt\n",
    "df = pd.read_csv('https://raw.githubusercontent.com/Datamanim/datarepo/main/body/body.csv')\n",
    "df.head()\n",
    "\n",
    "# 교차분석\n",
    "cross_df = pd.crosstab(df['측정회원성별'],df['등급'])\n",
    "display(cross_df)\n",
    "\n",
    "from scipy.stats import chi2_contingency\n",
    "\n",
    "print(chi2_contingency(cross_df))\n",
    "\n",
    "chi2, p, dof, expected = chi2_contingency(cross_df)\n",
    "print('pvalue: ', p)\n",
    "\n",
    "print('귀무가설: 성별과 등급은 연관이 없다.')\n",
    "if p > 0.05: \n",
    "    print('귀무가설을 기각할 수 없다.')\n",
    "else: \n",
    "    print('귀무가설을 기각한다. ')\n",
    "    "
   ]
  },
  {
   "cell_type": "code",
   "execution_count": 3,
   "metadata": {},
   "outputs": [
    {
     "name": "stdout",
     "output_type": "stream",
     "text": [
      "    불참  참석\n",
      "남성   4   2\n",
      "여성   1   9\n",
      "\n",
      "(3.277575757575758, 0.07023259819117404, 1, array([[1.875, 4.125],\n",
      "       [3.125, 6.875]]))\n",
      "pvalue:  0.07023259819117404\n",
      "귀무가설: 성별과 참석 간에 관련이 없다. 즉, 서로 독립이다.\n",
      "귀무가설 채택\n",
      "\n",
      "pvalue:  (18.0, 0.035714285714285726)\n",
      "귀무가설 기각\n"
     ]
    }
   ],
   "source": [
    "# 문제3. 성별과 참석 간에 관련이 있는지 검정하라 \n",
    "# 피셔 정확 검정, 빈도수가 5개 이하 셀의 수가 전체 20% 이상일 경우\n",
    "import pandas as pd \n",
    "import matplotlib.pyplot as plt\n",
    "df = pd.read_csv('https://raw.githubusercontent.com/Datamanim/datarepo/main/scipy/fe2.csv',index_col=0)\n",
    "df\n",
    "\n",
    "# 교차 검증\n",
    "crosstab_df = df.iloc[:-1, :-1]\n",
    "print(crosstab_df)\n",
    "print()\n",
    "\n",
    "# 카이 제곱 검정\n",
    "from scipy.stats import chi2_contingency, fisher_exact\n",
    "\n",
    "print(chi2_contingency(crosstab_df))\n",
    "\n",
    "chi2, p, dof, expected = chi2_contingency(crosstab_df)\n",
    "print('pvalue: ', p)\n",
    "\n",
    "print('귀무가설: 성별과 참석 간에 관련이 없다. 즉, 서로 독립이다.')\n",
    "if p > 0.05: \n",
    "    print('귀무가설 채택')\n",
    "else: \n",
    "    print('귀무가설 기각')\n",
    "print()\n",
    "\n",
    "# 피셔의 정확도 검정\n",
    "print('pvalue: ', fisher_exact(crosstab_df))\n",
    "print('귀무가설 기각')"
   ]
  },
  {
   "attachments": {},
   "cell_type": "markdown",
   "metadata": {},
   "source": [
    "아노바 "
   ]
  },
  {
   "cell_type": "code",
   "execution_count": 3,
   "metadata": {},
   "outputs": [],
   "source": [
    "import pandas as pd \n",
    "import matplotlib.pyplot as plt\n",
    "df = pd.read_csv('https://raw.githubusercontent.com/Datamanim/datarepo/main/scipy/anova.csv')\n",
    "\n",
    "data1 = df.x1\n",
    "data2 = df.x2\n",
    "data3 = df.x3\n",
    "\n",
    "# fig,ax = plt.subplots(1,2,figsize=(12,4))\n",
    "# ax[0].hist(data,alpha=0.3,bins=30,label='x1')\n",
    "# ax[0].hist(data2,alpha=0.3,bins=30,label='x2')\n",
    "# ax[0].hist(data3,alpha=0.3,bins=30,label='x3')\n",
    "# ax[0].legend()\n",
    "# labels = ['x1', 'x2', 'x3']\n",
    "# lst =[data,data2,data3]\n",
    "# ax[1].boxplot(lst, labels=labels) \n",
    "# plt.show()"
   ]
  },
  {
   "cell_type": "code",
   "execution_count": 7,
   "metadata": {},
   "outputs": [
    {
     "name": "stdout",
     "output_type": "stream",
     "text": [
      "ShapiroResult(statistic=0.9979788064956665, pvalue=0.27388232946395874)\n",
      "ShapiroResult(statistic=0.9979414939880371, pvalue=0.25899720191955566)\n",
      "ShapiroResult(statistic=0.9987626671791077, pvalue=0.7304413914680481)\n",
      "LeveneResult(statistic=2.71270174202054, pvalue=0.06652021922816238)\n",
      "F_onewayResult(statistic=209.88499932318638, pvalue=4.919152988455592e-86)\n"
     ]
    }
   ],
   "source": [
    "# 문제. x1, x2, x3 변수들의 평균 차이가 존재하는지 검정하라 \n",
    "# 차이가 존재한다면 사후분석까지 진행하라 \n",
    "\n",
    "# 정규성 검정\n",
    "from scipy.stats import shapiro\n",
    "\n",
    "print(shapiro(data1))\n",
    "print(shapiro(data2))\n",
    "print(shapiro(data3))\n",
    "# --> 모두 정규성 만족한다. \n",
    "\n",
    "# 등분산성 검정\n",
    "from scipy.stats import levene\n",
    "\n",
    "print(levene(data1, data2, data3))\n",
    "# --> 세 집단은 서로 등분산성을 만족한다. \n",
    "\n",
    "# ANOVA\n",
    "from scipy.stats import f_oneway\n",
    "\n",
    "print(f_oneway(data1, data2, data3))\n",
    "# --> 대립가설 채택\n",
    "# 세 집단중 임의의 두 집단은 서로 평균이 동일하지 않다. "
   ]
  },
  {
   "cell_type": "code",
   "execution_count": 8,
   "metadata": {},
   "outputs": [],
   "source": [
    "import pandas as pd \n",
    "import matplotlib.pyplot as plt\n",
    "df = pd.read_csv('https://raw.githubusercontent.com/Datamanim/datarepo/main/scipy/anova2.csv')\n",
    "\n",
    "data1 = df.x1\n",
    "data2 = df.x2\n",
    "data3 = df.x3\n",
    "\n",
    "# fig,ax = plt.subplots(1,2,figsize=(12,4))\n",
    "# ax[0].hist(data,alpha=0.3,bins=30,label='x1')\n",
    "# ax[0].hist(data2,alpha=0.3,bins=30,label='x2')\n",
    "# ax[0].hist(data3,alpha=0.3,bins=30,label='x3')\n",
    "# ax[0].legend()\n",
    "# labels = ['x1', 'x2', 'x3']\n",
    "# lst =[data,data2,data3]\n",
    "# ax[1].boxplot(lst, labels=labels) \n",
    "# plt.show()"
   ]
  },
  {
   "cell_type": "code",
   "execution_count": 11,
   "metadata": {},
   "outputs": [
    {
     "name": "stdout",
     "output_type": "stream",
     "text": [
      "ShapiroResult(statistic=0.9886646866798401, pvalue=0.5584300756454468)\n",
      "ShapiroResult(statistic=0.992436408996582, pvalue=0.8518696427345276)\n",
      "ShapiroResult(statistic=0.9848726987838745, pvalue=0.31093811988830566)\n",
      "LeveneResult(statistic=1.845797549925243, pvalue=0.15970603203148068)\n",
      "F_onewayResult(statistic=2.386152612702158, pvalue=0.09374426938585284)\n"
     ]
    }
   ],
   "source": [
    "# 문제. x1, x2, x3 변수들의 평균 차이가 존재하는지 검정하라 \n",
    "\n",
    "# 정규성 검정\n",
    "from scipy.stats import shapiro\n",
    "\n",
    "print(shapiro(data1))\n",
    "print(shapiro(data2))\n",
    "print(shapiro(data3))\n",
    "# --> 세 집단은 모두 정규성을 만족한다. \n",
    "\n",
    "# 등분산성 검정\n",
    "from scipy.stats import levene\n",
    "\n",
    "print(levene(data1, data2, data3))\n",
    "# --> 세 집단은 서로 등분산성을 만족한다. \n",
    "\n",
    "# ANOVA\n",
    "from scipy.stats import f_oneway\n",
    "\n",
    "print(f_oneway(data1, data2, data3))\n",
    "# --> 귀무가설 채택\n",
    "# 세 집단은 서로 평균의 차이가 없다. "
   ]
  },
  {
   "cell_type": "code",
   "execution_count": 12,
   "metadata": {},
   "outputs": [],
   "source": [
    "import pandas as pd \n",
    "import matplotlib.pyplot as plt\n",
    "df = pd.read_csv('https://raw.githubusercontent.com/Datamanim/datarepo/main/scipy/anova8.csv')\n",
    "\n",
    "data1 = df[df.target=='a'].value\n",
    "data2 = df[df.target=='b'].value\n",
    "data3 = df[df.target=='c'].value\n",
    "\n",
    "# fig,ax = plt.subplots(1,2,figsize=(12,4))\n",
    "# ax[0].hist(data,alpha=0.3,bins=30,label='a')\n",
    "# ax[0].hist(data2,alpha=0.3,bins=30,label='b')\n",
    "# ax[0].hist(data3,alpha=0.3,bins=30,label='c')\n",
    "# ax[0].legend()\n",
    "# labels = ['a', 'b', 'c']\n",
    "# lst =[data,data2,data3]\n",
    "# ax[1].boxplot(lst, labels=labels) \n",
    "# plt.show()"
   ]
  },
  {
   "cell_type": "code",
   "execution_count": 14,
   "metadata": {},
   "outputs": [
    {
     "name": "stdout",
     "output_type": "stream",
     "text": [
      "ShapiroResult(statistic=0.9666388034820557, pvalue=0.01229821890592575)\n",
      "ShapiroResult(statistic=0.9713969230651855, pvalue=0.1093384176492691)\n",
      "ShapiroResult(statistic=0.9651245474815369, pvalue=0.4156579077243805)\n",
      "LeveneResult(statistic=1.4817966330841852, pvalue=0.2297504921313145)\n",
      "F_onewayResult(statistic=2.7145676300093733, pvalue=0.06871171968864054)\n",
      "KruskalResult(statistic=6.9277037668798584, pvalue=0.03130893110123)\n"
     ]
    }
   ],
   "source": [
    "# 문제. x1, x2, x3 변수들의 평균 차이가 존재하는지 검정하라 \n",
    "\n",
    "# 정규성 검정\n",
    "from scipy.stats import shapiro\n",
    "\n",
    "print(shapiro(data1))\n",
    "print(shapiro(data2))\n",
    "print(shapiro(data3))\n",
    "# --> 첫번째 집단은 정규성을 만족하지 않는다. \n",
    "# 비모수 검정 \n",
    "\n",
    "# 등분산성 검정\n",
    "from scipy.stats import levene\n",
    "\n",
    "print(levene(data1, data2, data3))\n",
    "# --> 세 집단은 서로 등분산성을 만족한다. \n",
    "\n",
    "# # ANOVA\n",
    "# from scipy.stats import f_oneway\n",
    "\n",
    "# print(f_oneway(data1, data2, data3))\n",
    "# # --> 귀무가설 채택 \n",
    "# # 세 집단은 서로 평균이 같다. \n",
    "\n",
    "# kruskal \n",
    "from scipy.stats import kruskal\n",
    "\n",
    "print(kruskal(data1, data2, data3))\n",
    "# --> 대립가설 채택\n",
    "# 세 집단은 서로 평균이 다르다. "
   ]
  },
  {
   "cell_type": "code",
   "execution_count": 15,
   "metadata": {},
   "outputs": [],
   "source": [
    "import pandas as pd \n",
    "import matplotlib.pyplot as plt\n",
    "df = pd.read_csv('https://raw.githubusercontent.com/Datamanim/datarepo/main/scipy/anova10.csv')\n",
    "\n",
    "data1 = df[df.target=='a'].value\n",
    "data2 = df[df.target=='b'].value\n",
    "data3 = df[df.target=='c'].value\n",
    "\n",
    "# fig,ax = plt.subplots(1,2,figsize=(12,4))\n",
    "# ax[0].hist(data,alpha=0.3,bins=30,label='a')\n",
    "# ax[0].hist(data2,alpha=0.3,bins=30,label='b')\n",
    "# ax[0].hist(data3,alpha=0.3,bins=30,label='c')\n",
    "# ax[0].legend()\n",
    "# labels = ['a', 'b', 'c']\n",
    "# lst =[data,data2,data3]\n",
    "# ax[1].boxplot(lst, labels=labels) \n",
    "# plt.show()"
   ]
  },
  {
   "cell_type": "code",
   "execution_count": 18,
   "metadata": {},
   "outputs": [
    {
     "name": "stdout",
     "output_type": "stream",
     "text": [
      "ShapiroResult(statistic=0.9835558533668518, pvalue=0.24877400696277618)\n",
      "ShapiroResult(statistic=0.9923046231269836, pvalue=0.9479172825813293)\n",
      "ShapiroResult(statistic=0.952351450920105, pvalue=0.19536875188350677)\n",
      "LeveneResult(statistic=4.530341210288782, pvalue=0.011923468290294031)\n"
     ]
    },
    {
     "ename": "ModuleNotFoundError",
     "evalue": "No module named 'pinguoin'",
     "output_type": "error",
     "traceback": [
      "\u001b[1;31m---------------------------------------------------------------------------\u001b[0m",
      "\u001b[1;31mModuleNotFoundError\u001b[0m                       Traceback (most recent call last)",
      "\u001b[1;32m<ipython-input-18-29f65f0e62b0>\u001b[0m in \u001b[0;36m<module>\u001b[1;34m\u001b[0m\n\u001b[0;32m     24\u001b[0m \u001b[1;33m\u001b[0m\u001b[0m\n\u001b[0;32m     25\u001b[0m \u001b[1;31m# welch's test\u001b[0m\u001b[1;33m\u001b[0m\u001b[1;33m\u001b[0m\u001b[1;33m\u001b[0m\u001b[0m\n\u001b[1;32m---> 26\u001b[1;33m \u001b[1;32mimport\u001b[0m \u001b[0mpinguoin\u001b[0m \u001b[1;32mas\u001b[0m \u001b[0mpg\u001b[0m\u001b[1;33m\u001b[0m\u001b[1;33m\u001b[0m\u001b[0m\n\u001b[0m",
      "\u001b[1;31mModuleNotFoundError\u001b[0m: No module named 'pinguoin'"
     ]
    }
   ],
   "source": [
    "# 문제. x1, x2, x3 변수들의 평균 차이가 존재하는지 검정하라 \n",
    "\n",
    "# 정규성 검정\n",
    "from scipy.stats import shapiro\n",
    "\n",
    "print(shapiro(data1))\n",
    "print(shapiro(data2))\n",
    "print(shapiro(data3))\n",
    "# --> 세 집단은 모두 정규성을 만족한다. \n",
    "\n",
    "# 등분산성 검정\n",
    "from scipy.stats import levene\n",
    "\n",
    "print(levene(data1, data2, data3))\n",
    "# --> 세 집단은 서로 등분산성을 만족하지 않는다. \n",
    "\n",
    "# ANOVA\n",
    "# from scipy.stats import f_oneway, kruskal \n",
    "\n",
    "# print(f_oneway(data1, data2, data3))\n",
    "\n",
    "# kruskal \n",
    "# print(f_oneway(kruskal(data1, data2, data3)))\n",
    "\n",
    "# welch's test \n",
    "import pinguoin as pg"
   ]
  },
  {
   "cell_type": "code",
   "execution_count": null,
   "metadata": {},
   "outputs": [],
   "source": []
  }
 ],
 "metadata": {
  "kernelspec": {
   "display_name": "base",
   "language": "python",
   "name": "python3"
  },
  "language_info": {
   "codemirror_mode": {
    "name": "ipython",
    "version": 3
   },
   "file_extension": ".py",
   "mimetype": "text/x-python",
   "name": "python",
   "nbconvert_exporter": "python",
   "pygments_lexer": "ipython3",
   "version": "3.8.8"
  },
  "orig_nbformat": 4
 },
 "nbformat": 4,
 "nbformat_minor": 2
}
