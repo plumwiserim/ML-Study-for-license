{
 "cells": [
  {
   "attachments": {},
   "cell_type": "markdown",
   "metadata": {},
   "source": [
    "복습 "
   ]
  },
  {
   "attachments": {},
   "cell_type": "markdown",
   "metadata": {},
   "source": [
    "단일 표본 T검정"
   ]
  },
  {
   "cell_type": "code",
   "execution_count": 4,
   "metadata": {},
   "outputs": [
    {
     "name": "stdout",
     "output_type": "stream",
     "text": [
      "        height\n",
      "0   160.237691\n",
      "1   164.747324\n",
      "2   165.401628\n",
      "3   168.801627\n",
      "4   153.199021\n",
      "..         ...\n",
      "95  168.556633\n",
      "96  172.935092\n",
      "97  171.913052\n",
      "98  181.381108\n",
      "99  161.891018\n",
      "\n",
      "[100 rows x 1 columns]\n",
      "ShapiroResult(statistic=0.9872670769691467, pvalue=0.455832302570343)\n",
      "ShapiroResult(statistic=0.9872670769691467, pvalue=0.455832302570343)\n",
      "Ttest_1sampResult(statistic=3.2017884987150644, pvalue=0.0018367171548080209)\n"
     ]
    }
   ],
   "source": [
    "import pandas as pd \n",
    "df = pd.read_csv('https://raw.githubusercontent.com/Datamanim/datarepo/main/scipy/height1.csv')\n",
    "print(df)\n",
    "\n",
    "# 정규성 검정 \n",
    "from scipy.stats import shapiro \n",
    "\n",
    "print(shapiro(df))\n",
    "print(shapiro(df['height']))\n",
    "# --> 정규성을 만족한다. \n",
    "\n",
    "# t-test \n",
    "from scipy.stats import ttest_1samp \n",
    "\n",
    "print(ttest_1samp(df['height'], 165))\n",
    "# --> 대립가설 채택 \n",
    "# 100명 키의 평균은 165가 아니다 "
   ]
  },
  {
   "cell_type": "code",
   "execution_count": 7,
   "metadata": {},
   "outputs": [
    {
     "name": "stdout",
     "output_type": "stream",
     "text": [
      "ShapiroResult(statistic=0.9672006368637085, pvalue=0.013552471995353699)\n",
      "WilcoxonResult(statistic=1952.0, pvalue=0.04880534424649582)\n"
     ]
    }
   ],
   "source": [
    "import pandas as pd \n",
    "df = pd.read_csv('https://raw.githubusercontent.com/Datamanim/datarepo/main/scipy/height2.csv')\n",
    "\n",
    "# 정규성 검정 \n",
    "from scipy.stats import shapiro\n",
    "\n",
    "print(shapiro(df))\n",
    "# --> 정규성을 만족하지 않는다. \n",
    "\n",
    "# 윌콕슨 검정 \n",
    "from scipy.stats import wilcoxon\n",
    "\n",
    "print(wilcoxon(df['height'] - 165))\n",
    "# --> 대립가설 채택 \n",
    "# 100명 키의 평균은 165가 아니다. "
   ]
  },
  {
   "attachments": {},
   "cell_type": "markdown",
   "metadata": {},
   "source": [
    "독립 표본 T검정"
   ]
  },
  {
   "cell_type": "code",
   "execution_count": 13,
   "metadata": {},
   "outputs": [
    {
     "name": "stdout",
     "output_type": "stream",
     "text": [
      "ShapiroResult(statistic=0.9860947728157043, pvalue=0.37968069314956665)\n",
      "ShapiroResult(statistic=0.990182638168335, pvalue=0.6793646216392517)\n",
      "LeveneResult(statistic=2.5337683795339547, pvalue=0.11302904824469093)\n",
      "Ttest_indResult(statistic=array([2.76719074]), pvalue=array([0.00619015]))\n"
     ]
    }
   ],
   "source": [
    "import pandas as pd \n",
    "import matplotlib.pyplot as plt\n",
    "df1 = pd.read_csv('https://raw.githubusercontent.com/Datamanim/datarepo/main/scipy/ind1.csv')\n",
    "df2 = pd.read_csv('https://raw.githubusercontent.com/Datamanim/datarepo/main/scipy/ind2.csv')\n",
    "\n",
    "# plt.hist(df1,label='df1',alpha=0.4)\n",
    "# plt.hist(df2,label=\"df2\",alpha=0.4)\n",
    "# plt.xlabel('Score bins')\n",
    "# plt.ylabel('Counts')\n",
    "# plt.legend()\n",
    "# plt.show()\n",
    "\n",
    "# 정규성 검정\n",
    "from scipy.stats import shapiro\n",
    "\n",
    "print(shapiro(df1))\n",
    "print(shapiro(df2))\n",
    "# --> 두 집단 모두 정규성 만족 \n",
    "\n",
    "# 등분산성 검정 \n",
    "from scipy.stats import levene \n",
    "\n",
    "print(levene(df1['data'], df2['data']))\n",
    "# --> 두 집단은 서로 등분산성을 만족\n",
    "\n",
    "# t-test\n",
    "from scipy.stats import ttest_ind\n",
    "\n",
    "print(ttest_ind(df1, df2))\n",
    "# --> 대립가설 채택 \n",
    "# 두 학급의 시험 평균은 동일하지 않다 "
   ]
  },
  {
   "cell_type": "code",
   "execution_count": 18,
   "metadata": {},
   "outputs": [
    {
     "name": "stdout",
     "output_type": "stream",
     "text": [
      "ShapiroResult(statistic=0.9456477761268616, pvalue=2.320352905371692e-06)\n",
      "ShapiroResult(statistic=0.9639440774917603, pvalue=0.00013570845476351678)\n",
      "MannwhitneyuResult(statistic=16044.5, pvalue=0.4376108248494743)\n",
      "RanksumsResult(statistic=0.15750520501576631, pvalue=0.8748467060858833)\n"
     ]
    }
   ],
   "source": [
    "import pandas as pd \n",
    "import matplotlib.pyplot as plt\n",
    "df = pd.read_csv('https://raw.githubusercontent.com/Datamanim/datarepo/main/scipy/scipy5.csv')\n",
    "\n",
    "# 결측치 점검 \n",
    "# print(df.isnull().sum())\n",
    "df = df.dropna()\n",
    "\n",
    "a = df['A']\n",
    "b = df['B']\n",
    "\n",
    "# plt.hist(df['A'],alpha=0.5,label='A')\n",
    "# plt.hist(df['B'].dropna(),alpha=0.5,label=\"B\")\n",
    "# plt.xlabel('Score bins')\n",
    "# plt.ylabel('Counts')\n",
    "# plt.legend()\n",
    "# plt.show()\n",
    "\n",
    "# 정규성 검정 \n",
    "from scipy.stats import shapiro \n",
    "\n",
    "print(shapiro(a))\n",
    "print(shapiro(b))\n",
    "# --> 두 집단 모두 정규성을 만족하지 않는다. \n",
    "\n",
    "# 비모수검정\n",
    "from scipy.stats import mannwhitneyu, ranksums\n",
    "\n",
    "print(mannwhitneyu(a, b))\n",
    "print(ranksums(a, b))\n",
    "# --> 귀무가설 채택 \n",
    "# 따라서 두 학급의 시험성적의 평균은 서로 같다. "
   ]
  },
  {
   "cell_type": "code",
   "execution_count": 22,
   "metadata": {},
   "outputs": [
    {
     "name": "stdout",
     "output_type": "stream",
     "text": [
      "ShapiroResult(statistic=0.9834123253822327, pvalue=0.1473984718322754)\n",
      "ShapiroResult(statistic=0.9831849336624146, pvalue=0.47018250823020935)\n",
      "LeveneResult(statistic=6.185601018015722, pvalue=0.013750484571911342)\n",
      "Ttest_indResult(statistic=-2.1949470315829265, pvalue=0.029512802991767915)\n"
     ]
    }
   ],
   "source": [
    "import pandas as pd \n",
    "import matplotlib.pyplot as plt\n",
    "df = pd.read_csv('https://raw.githubusercontent.com/Datamanim/datarepo/main/scipy/ind3.csv')\n",
    "\n",
    "# print(df)\n",
    "\n",
    "a = df[df['group']=='a']['data']\n",
    "b = df[df['group']=='b']['data']\n",
    "\n",
    "# plt.hist(df[df['group'] =='a'].data,label='A',alpha=0.5)\n",
    "# plt.hist(df[df['group'] =='b'].data,label=\"B\",alpha=0.5)\n",
    "# plt.xlabel('Score bins')\n",
    "# plt.ylabel('Counts')\n",
    "# plt.legend()\n",
    "# plt.show()\n",
    "\n",
    "# 정규성 검정 \n",
    "from scipy.stats import shapiro\n",
    "\n",
    "print(shapiro(a))\n",
    "print(shapiro(b))\n",
    "# --> 두 집단 모두 정규성 만족 \n",
    "\n",
    "# 등분산성 검정 \n",
    "from scipy.stats import levene \n",
    "\n",
    "print(levene(a, b))\n",
    "# --> 등분산성 만족하지 않는다. \n",
    "\n",
    "# ttest\n",
    "from scipy.stats import ttest_ind\n",
    "\n",
    "print(ttest_ind(a, b, equal_var=False))\n",
    "# --> 대립가설 채택 \n",
    "# 서로 평균이 같지 않다. "
   ]
  },
  {
   "cell_type": "code",
   "execution_count": 28,
   "metadata": {},
   "outputs": [
    {
     "name": "stdout",
     "output_type": "stream",
     "text": [
      "ShapiroResult(statistic=0.9836674928665161, pvalue=0.49541446566581726)\n",
      "ShapiroResult(statistic=0.9854329228401184, pvalue=0.5937777757644653)\n",
      "LeveneResult(statistic=4.247654406016666, pvalue=0.04118219810338821)\n",
      "Ttest_indResult(statistic=0.3406665402843751, pvalue=0.7339049438228125)\n"
     ]
    }
   ],
   "source": [
    "import pandas as pd \n",
    "import matplotlib.pyplot as plt\n",
    "df = pd.read_csv('https://raw.githubusercontent.com/Datamanim/datarepo/main/scipy/ind6.csv')\n",
    "\n",
    "# print(df)\n",
    "\n",
    "# print(df.isnull().sum())\n",
    "df = df.dropna()\n",
    "\n",
    "a = df['a']\n",
    "b = df['b']\n",
    "\n",
    "# plt.hist(df['a'],alpha=0.5,label='A')\n",
    "# plt.hist(df['b'],alpha=0.5,label=\"B\")\n",
    "# plt.xlabel('Score bins')\n",
    "# plt.ylabel('Counts')\n",
    "# plt.legend()\n",
    "# plt.show()\n",
    "\n",
    "# 정규성 검정\n",
    "from scipy.stats import shapiro\n",
    "\n",
    "print(shapiro(a))\n",
    "print(shapiro(b))\n",
    "# --> 두 집단은 모두 정규성 만족 \n",
    "\n",
    "# 등분산성 검정 \n",
    "from scipy.stats import levene\n",
    "\n",
    "print(levene(a, b))\n",
    "# --> 두 집단은 등분산성 만족하지 않는다. \n",
    "\n",
    "# ttest\n",
    "from scipy.stats import ttest_ind\n",
    "\n",
    "print(ttest_ind(a, b, equal_var=False))\n",
    "# --> 두 집단의 평균은 서로 같다. "
   ]
  },
  {
   "attachments": {},
   "cell_type": "markdown",
   "metadata": {},
   "source": [
    "대응 표본 T검정"
   ]
  },
  {
   "cell_type": "code",
   "execution_count": 32,
   "metadata": {},
   "outputs": [
    {
     "name": "stdout",
     "output_type": "stream",
     "text": [
      "ShapiroResult(statistic=0.9907894134521484, pvalue=0.6065712571144104)\n",
      "ShapiroResult(statistic=0.9916958808898926, pvalue=0.6923439502716064)\n",
      "Ttest_relResult(statistic=-2.5535473487670677, pvalue=0.011926744724546513)\n"
     ]
    }
   ],
   "source": [
    "import pandas as pd \n",
    "import matplotlib.pyplot as plt\n",
    "df = pd.read_csv('https://raw.githubusercontent.com/Datamanim/datarepo/main/scipy/rel2.csv')\n",
    "\n",
    "# print(df)\n",
    "\n",
    "before = df['before']\n",
    "after = df['after']\n",
    "\n",
    "# fig ,ax = plt.subplots(1,2)\n",
    "# ax[0].boxplot(df['before'])\n",
    "# ax[1].boxplot(df['after'])\n",
    "# ax[0].set_xticklabels(['before'])\n",
    "# ax[1].set_xticklabels(['after'])\n",
    "# ax[0].set_ylim(100,350)\n",
    "# ax[1].set_ylim(100,350)\n",
    "# ax[1].get_yaxis().set_visible(False)\n",
    "# ax[0].set_ylabel('value')\n",
    "# plt.show()\n",
    "\n",
    "# 정규성 만족 \n",
    "from scipy.stats import shapiro \n",
    "\n",
    "print(shapiro(before))\n",
    "print(shapiro(after))\n",
    "# 두 집단 모두 정규성 만족 \n",
    "\n",
    "# ttest \n",
    "from scipy.stats import ttest_rel \n",
    "\n",
    "print(ttest_rel(before, after))\n",
    "# --> 대립가설 채택 \n",
    "# 두 집단의 평균은 같지 않다. 독립이다. "
   ]
  },
  {
   "cell_type": "code",
   "execution_count": 36,
   "metadata": {},
   "outputs": [
    {
     "name": "stdout",
     "output_type": "stream",
     "text": [
      "ShapiroResult(statistic=0.9920635223388672, pvalue=0.7270597219467163)\n",
      "ShapiroResult(statistic=0.992019534111023, pvalue=0.7229286432266235)\n",
      "Ttest_relResult(statistic=0.188900575991026, pvalue=0.8504925317234707)\n"
     ]
    }
   ],
   "source": [
    "import pandas as pd \n",
    "import matplotlib.pyplot as plt\n",
    "\n",
    "df = pd.read_csv('https://raw.githubusercontent.com/Datamanim/datarepo/main/scipy/rel3.csv')\n",
    "\n",
    "# print(df)\n",
    "\n",
    "# print(df.isnull().sum())\n",
    "\n",
    "before = df['before']\n",
    "after = df['after']\n",
    "\n",
    "# fig ,ax = plt.subplots(1,2)\n",
    "# ax[0].boxplot(df['before'])\n",
    "# ax[1].boxplot(df['after'])\n",
    "# ax[0].set_xticklabels(['before'])\n",
    "# ax[1].set_xticklabels(['after'])\n",
    "# ax[0].set_ylim(130,300)\n",
    "# ax[1].set_ylim(130,300)\n",
    "# ax[1].get_yaxis().set_visible(False)\n",
    "# ax[0].set_ylabel('value')\n",
    "# plt.show()\n",
    "\n",
    "# 정규성 검정 \n",
    "from scipy.stats import shapiro \n",
    "\n",
    "print(shapiro(before))\n",
    "print(shapiro(after))\n",
    "# --> 두 집단 모두 정규성 만족 \n",
    "\n",
    "# ttest\n",
    "from scipy.stats import ttest_rel \n",
    "\n",
    "print(ttest_rel(before, after))\n",
    "# --> 귀무가설 채택 \n",
    "# 두 집단의 평균은 같다. 독립적이지 않다 !"
   ]
  },
  {
   "cell_type": "code",
   "execution_count": 40,
   "metadata": {},
   "outputs": [
    {
     "name": "stdout",
     "output_type": "stream",
     "text": [
      "ShapiroResult(statistic=0.9173726439476013, pvalue=0.001897332607768476)\n",
      "ShapiroResult(statistic=0.9448971152305603, pvalue=0.021141061559319496)\n",
      "WilcoxonResult(statistic=437.0, pvalue=0.12098409484052809)\n"
     ]
    }
   ],
   "source": [
    "import pandas as pd \n",
    "import matplotlib.pyplot as plt\n",
    "\n",
    "df = pd.read_csv('https://raw.githubusercontent.com/Datamanim/datarepo/main/scipy/rel1.csv')\n",
    "\n",
    "# print(df)\n",
    "\n",
    "# print(df.isnull().sum())\n",
    "\n",
    "before = df['before']\n",
    "after = df['after']\n",
    "\n",
    "# fig ,ax = plt.subplots(1,2)\n",
    "# ax[0].boxplot(df['before'])\n",
    "# ax[1].boxplot(df['after'])\n",
    "# ax[0].set_xticklabels(['before'])\n",
    "# ax[1].set_xticklabels(['after'])\n",
    "# ax[0].set_ylim(145,170)\n",
    "# ax[1].set_ylim(145,170)\n",
    "# ax[1].get_yaxis().set_visible(False)\n",
    "# ax[0].set_ylabel('value')\n",
    "# plt.show()\n",
    "\n",
    "# 정규성 검정 \n",
    "from scipy.stats import shapiro \n",
    "\n",
    "print(shapiro(before))\n",
    "print(shapiro(after))\n",
    "# --> 두 집단은 모두 정규성을 만족하지 않는다. \n",
    "\n",
    "# 윌콕슨 검정 \n",
    "from scipy.stats import wilcoxon\n",
    "\n",
    "print(wilcoxon(before, after))\n",
    "# --> 귀무가설 채택 \n",
    "# 두 집단의 평균은 서로 같다. 독립적이지 않다 !"
   ]
  },
  {
   "cell_type": "code",
   "execution_count": 46,
   "metadata": {},
   "outputs": [
    {
     "name": "stdout",
     "output_type": "stream",
     "text": [
      "ShapiroResult(statistic=0.9907213449478149, pvalue=0.8884111046791077)\n",
      "ShapiroResult(statistic=0.984674870967865, pvalue=0.5505106449127197)\n",
      "Ttest_relResult(statistic=1.9018108294460812, pvalue=0.030685663464464715)\n"
     ]
    }
   ],
   "source": [
    "import pandas as pd \n",
    "import matplotlib.pyplot as plt\n",
    "\n",
    "df = pd.read_csv('https://raw.githubusercontent.com/Datamanim/datarepo/main/scipy/rel4.csv')\n",
    "\n",
    "# print(df)\n",
    "\n",
    "# print(df.isnull().sum())\n",
    "\n",
    "a = df[df['group'] == 'a']['rpm']\n",
    "b = df[df['group'] == 'b']['rpm']\n",
    "\n",
    "# fig ,ax = plt.subplots(1,2)\n",
    "# ax[0].boxplot(df[df['group']=='a'].rpm)\n",
    "# ax[1].boxplot(df[df['group']=='b'].rpm)\n",
    "# ax[0].set_xticklabels(['a'])\n",
    "# ax[1].set_xticklabels(['b'])\n",
    "# ax[0].set_ylim(430,600)\n",
    "# ax[1].set_ylim(430,600)\n",
    "# ax[1].get_yaxis().set_visible(False)\n",
    "# ax[0].set_ylabel('rpm')\n",
    "# plt.show()\n",
    "\n",
    "# 정규성 검정 \n",
    "from scipy.stats import shapiro \n",
    "\n",
    "print(shapiro(a))\n",
    "print(shapiro(b))\n",
    "# --> 두 집단은 모두 정규성을 만족 \n",
    "\n",
    "# ttest\n",
    "from scipy.stats import ttest_rel\n",
    "\n",
    "print(ttest_rel(b, a, alternative='greater'))\n",
    "# --> 대립가설 채택 \n",
    "# 두 집단 평균은 같다. 독립적이지 않다 ! "
   ]
  },
  {
   "attachments": {},
   "cell_type": "markdown",
   "metadata": {},
   "source": [
    "카이 제곱 검정"
   ]
  },
  {
   "cell_type": "code",
   "execution_count": 58,
   "metadata": {},
   "outputs": [
    {
     "name": "stdout",
     "output_type": "stream",
     "text": [
      "   dice_number  counts  expected\n",
      "0            1      24        24\n",
      "1            2      20        24\n",
      "2            3      28        24\n",
      "3            4      22        24\n",
      "4            5      28        24\n",
      "5            6      22        24\n",
      "Power_divergenceResult(statistic=2.333333333333333, pvalue=0.8013589222076911)\n"
     ]
    }
   ],
   "source": [
    "import pandas as pd \n",
    "import matplotlib.pyplot as plt\n",
    "\n",
    "df = pd.read_csv('https://raw.githubusercontent.com/Datamanim/datarepo/main/scipy/dice.csv')\n",
    "\n",
    "# print(df)\n",
    "\n",
    "# plt.bar(df.dice_number,df.counts)\n",
    "# plt.xlabel('dice value')\n",
    "# plt.ylabel('counts')\n",
    "# plt.show()\n",
    "\n",
    "df['expected'] = int(df['counts'].sum() / len(df))\n",
    "\n",
    "print(df)\n",
    "\n",
    "from scipy.stats import chisquare\n",
    "\n",
    "print(chisquare(df['counts'], df['expected']))\n",
    "# --> 귀무가설 채택 \n",
    "# 주어진 데이터의 분포는 기대값과 같다. "
   ]
  },
  {
   "cell_type": "code",
   "execution_count": 67,
   "metadata": {},
   "outputs": [
    {
     "name": "stdout",
     "output_type": "stream",
     "text": [
      "       hands  expected\n",
      "right    420       400\n",
      "left      80       100\n",
      "Power_divergenceResult(statistic=5.0, pvalue=0.025347318677468325)\n"
     ]
    }
   ],
   "source": [
    "import pandas as pd \n",
    "import matplotlib.pyplot as plt\n",
    "\n",
    "df = pd.read_csv('https://raw.githubusercontent.com/Datamanim/datarepo/main/scipy/hands2.csv')\n",
    "\n",
    "# print(df.head())\n",
    "\n",
    "cross_df = df['hands'].value_counts().to_frame()\n",
    "# print(cross_df)\n",
    "\n",
    "cross_df['expected'] = [int(cross_df['hands'].sum() * 0.8), int(cross_df['hands'].sum() * 0.2)]\n",
    "print(cross_df)\n",
    "\n",
    "from scipy.stats import chisquare \n",
    "\n",
    "print(chisquare(cross_df['hands'], cross_df['expected']))\n",
    "# --> 대립가설 채택\n",
    "# 주어진 데이터 분포는 기대되는 분포와 다르다 \n"
   ]
  },
  {
   "cell_type": "code",
   "execution_count": null,
   "metadata": {},
   "outputs": [],
   "source": []
  }
 ],
 "metadata": {
  "kernelspec": {
   "display_name": "base",
   "language": "python",
   "name": "python3"
  },
  "language_info": {
   "codemirror_mode": {
    "name": "ipython",
    "version": 3
   },
   "file_extension": ".py",
   "mimetype": "text/x-python",
   "name": "python",
   "nbconvert_exporter": "python",
   "pygments_lexer": "ipython3",
   "version": "3.8.8"
  },
  "orig_nbformat": 4
 },
 "nbformat": 4,
 "nbformat_minor": 2
}
